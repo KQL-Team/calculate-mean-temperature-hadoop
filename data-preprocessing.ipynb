{
 "metadata": {
  "kernelspec": {
   "language": "python",
   "display_name": "Python 3",
   "name": "python3"
  },
  "language_info": {
   "name": "python",
   "version": "3.11.11",
   "mimetype": "text/x-python",
   "codemirror_mode": {
    "name": "ipython",
    "version": 3
   },
   "pygments_lexer": "ipython3",
   "nbconvert_exporter": "python",
   "file_extension": ".py"
  },
  "kaggle": {
   "accelerator": "none",
   "dataSources": [
    {
     "sourceId": 11865524,
     "sourceType": "datasetVersion",
     "datasetId": 7456143
    }
   ],
   "dockerImageVersionId": 31040,
   "isInternetEnabled": true,
   "language": "python",
   "sourceType": "notebook",
   "isGpuEnabled": false
  }
 },
 "nbformat_minor": 4,
 "nbformat": 4,
 "cells": [
  {
   "cell_type": "code",
   "source": "import numpy as np\nimport pandas as pd\nfrom tqdm.autonotebook import tqdm\nimport warnings \nwarnings.filterwarnings(\"ignore\")",
   "metadata": {
    "_uuid": "8f2839f25d086af736a60e9eeb907d3b93b6e0e5",
    "_cell_guid": "b1076dfc-b9ad-4769-8c92-a6c4dae69d19",
    "trusted": true,
    "execution": {
     "iopub.status.busy": "2025-05-19T04:15:41.308037Z",
     "iopub.execute_input": "2025-05-19T04:15:41.308404Z",
     "iopub.status.idle": "2025-05-19T04:15:44.163817Z",
     "shell.execute_reply.started": "2025-05-19T04:15:41.308370Z",
     "shell.execute_reply": "2025-05-19T04:15:44.162793Z"
    },
    "ExecuteTime": {
     "end_time": "2025-05-19T10:30:07.786542Z",
     "start_time": "2025-05-19T10:30:07.780603Z"
    }
   },
   "outputs": [],
   "execution_count": 2
  },
  {
   "cell_type": "code",
   "source": [
    "df = pd.read_csv(\"us_eastern_regions_hourly_temperature_2006_to_2025.csv\")\n",
    "df['time'] = pd.to_datetime(df['time'])\n",
    "df.set_index('time', inplace=True)\n",
    "df.head()"
   ],
   "metadata": {
    "trusted": true,
    "execution": {
     "iopub.status.busy": "2025-05-19T04:15:44.164797Z",
     "iopub.execute_input": "2025-05-19T04:15:44.165298Z",
     "iopub.status.idle": "2025-05-19T04:15:45.416961Z",
     "shell.execute_reply.started": "2025-05-19T04:15:44.165267Z",
     "shell.execute_reply": "2025-05-19T04:15:45.415545Z"
    },
    "ExecuteTime": {
     "end_time": "2025-05-19T10:33:10.977962Z",
     "start_time": "2025-05-19T10:33:10.655536Z"
    }
   },
   "outputs": [
    {
     "data": {
      "text/plain": [
       "                     arkansas_temp  colorado_temp  connecticut_temp  \\\n",
       "time                                                                  \n",
       "2006-01-01 00:00:00            NaN            NaN               NaN   \n",
       "2006-01-01 01:00:00            NaN           -1.0              -2.8   \n",
       "2006-01-01 02:00:00            NaN           -3.0              -2.2   \n",
       "2006-01-01 03:00:00            NaN           -4.0              -2.2   \n",
       "2006-01-01 04:00:00            NaN           -4.0              -1.7   \n",
       "\n",
       "                     delaware_temp  florida_temp  georgia_temp  illinois_temp  \\\n",
       "time                                                                            \n",
       "2006-01-01 00:00:00            NaN          19.4           NaN            1.1   \n",
       "2006-01-01 01:00:00            6.1          19.4           6.7           -0.6   \n",
       "2006-01-01 02:00:00            5.6          17.8           3.9           -0.6   \n",
       "2006-01-01 03:00:00            5.0          16.1           3.3            0.6   \n",
       "2006-01-01 04:00:00            3.9          15.0           2.8            0.0   \n",
       "\n",
       "                     indiana_temp  iowa_temp  kansas_temp  ...  \\\n",
       "time                                                       ...   \n",
       "2006-01-01 00:00:00           1.7        1.1          NaN  ...   \n",
       "2006-01-01 01:00:00           1.7        1.1          6.1  ...   \n",
       "2006-01-01 02:00:00           1.7        0.6          6.1  ...   \n",
       "2006-01-01 03:00:00           1.7        0.0          6.1  ...   \n",
       "2006-01-01 04:00:00           0.6        0.0          4.4  ...   \n",
       "\n",
       "                     north_dakota_temp  ohio_temp  oklahoma_temp  \\\n",
       "time                                                               \n",
       "2006-01-01 00:00:00               -2.8        NaN            NaN   \n",
       "2006-01-01 01:00:00               -2.8        1.7           11.7   \n",
       "2006-01-01 02:00:00               -2.8        1.7           13.3   \n",
       "2006-01-01 03:00:00               -3.3        1.7           13.3   \n",
       "2006-01-01 04:00:00               -3.3        1.7           13.9   \n",
       "\n",
       "                     rhode_island_temp  south_carolina_temp  \\\n",
       "time                                                          \n",
       "2006-01-01 00:00:00               -0.6                  NaN   \n",
       "2006-01-01 01:00:00               -0.6                 14.4   \n",
       "2006-01-01 02:00:00                0.0                 12.8   \n",
       "2006-01-01 03:00:00                0.0                 11.1   \n",
       "2006-01-01 04:00:00                0.0                  8.9   \n",
       "\n",
       "                     south_dakota_temp  tennessee_temp  texas_temp  \\\n",
       "time                                                                 \n",
       "2006-01-01 00:00:00                NaN             NaN         9.4   \n",
       "2006-01-01 01:00:00               -1.1             8.9        10.0   \n",
       "2006-01-01 02:00:00               -1.1             8.3         8.3   \n",
       "2006-01-01 03:00:00               -1.7             3.3         8.3   \n",
       "2006-01-01 04:00:00               -2.2             5.6         7.2   \n",
       "\n",
       "                     virginia_temp  wyoming_temp  \n",
       "time                                              \n",
       "2006-01-01 00:00:00            NaN           NaN  \n",
       "2006-01-01 01:00:00            7.2          11.7  \n",
       "2006-01-01 02:00:00            2.8           8.3  \n",
       "2006-01-01 03:00:00            1.7           8.3  \n",
       "2006-01-01 04:00:00            6.1           7.2  \n",
       "\n",
       "[5 rows x 34 columns]"
      ],
      "text/html": [
       "<div>\n",
       "<style scoped>\n",
       "    .dataframe tbody tr th:only-of-type {\n",
       "        vertical-align: middle;\n",
       "    }\n",
       "\n",
       "    .dataframe tbody tr th {\n",
       "        vertical-align: top;\n",
       "    }\n",
       "\n",
       "    .dataframe thead th {\n",
       "        text-align: right;\n",
       "    }\n",
       "</style>\n",
       "<table border=\"1\" class=\"dataframe\">\n",
       "  <thead>\n",
       "    <tr style=\"text-align: right;\">\n",
       "      <th></th>\n",
       "      <th>arkansas_temp</th>\n",
       "      <th>colorado_temp</th>\n",
       "      <th>connecticut_temp</th>\n",
       "      <th>delaware_temp</th>\n",
       "      <th>florida_temp</th>\n",
       "      <th>georgia_temp</th>\n",
       "      <th>illinois_temp</th>\n",
       "      <th>indiana_temp</th>\n",
       "      <th>iowa_temp</th>\n",
       "      <th>kansas_temp</th>\n",
       "      <th>...</th>\n",
       "      <th>north_dakota_temp</th>\n",
       "      <th>ohio_temp</th>\n",
       "      <th>oklahoma_temp</th>\n",
       "      <th>rhode_island_temp</th>\n",
       "      <th>south_carolina_temp</th>\n",
       "      <th>south_dakota_temp</th>\n",
       "      <th>tennessee_temp</th>\n",
       "      <th>texas_temp</th>\n",
       "      <th>virginia_temp</th>\n",
       "      <th>wyoming_temp</th>\n",
       "    </tr>\n",
       "    <tr>\n",
       "      <th>time</th>\n",
       "      <th></th>\n",
       "      <th></th>\n",
       "      <th></th>\n",
       "      <th></th>\n",
       "      <th></th>\n",
       "      <th></th>\n",
       "      <th></th>\n",
       "      <th></th>\n",
       "      <th></th>\n",
       "      <th></th>\n",
       "      <th></th>\n",
       "      <th></th>\n",
       "      <th></th>\n",
       "      <th></th>\n",
       "      <th></th>\n",
       "      <th></th>\n",
       "      <th></th>\n",
       "      <th></th>\n",
       "      <th></th>\n",
       "      <th></th>\n",
       "      <th></th>\n",
       "    </tr>\n",
       "  </thead>\n",
       "  <tbody>\n",
       "    <tr>\n",
       "      <th>2006-01-01 00:00:00</th>\n",
       "      <td>NaN</td>\n",
       "      <td>NaN</td>\n",
       "      <td>NaN</td>\n",
       "      <td>NaN</td>\n",
       "      <td>19.4</td>\n",
       "      <td>NaN</td>\n",
       "      <td>1.1</td>\n",
       "      <td>1.7</td>\n",
       "      <td>1.1</td>\n",
       "      <td>NaN</td>\n",
       "      <td>...</td>\n",
       "      <td>-2.8</td>\n",
       "      <td>NaN</td>\n",
       "      <td>NaN</td>\n",
       "      <td>-0.6</td>\n",
       "      <td>NaN</td>\n",
       "      <td>NaN</td>\n",
       "      <td>NaN</td>\n",
       "      <td>9.4</td>\n",
       "      <td>NaN</td>\n",
       "      <td>NaN</td>\n",
       "    </tr>\n",
       "    <tr>\n",
       "      <th>2006-01-01 01:00:00</th>\n",
       "      <td>NaN</td>\n",
       "      <td>-1.0</td>\n",
       "      <td>-2.8</td>\n",
       "      <td>6.1</td>\n",
       "      <td>19.4</td>\n",
       "      <td>6.7</td>\n",
       "      <td>-0.6</td>\n",
       "      <td>1.7</td>\n",
       "      <td>1.1</td>\n",
       "      <td>6.1</td>\n",
       "      <td>...</td>\n",
       "      <td>-2.8</td>\n",
       "      <td>1.7</td>\n",
       "      <td>11.7</td>\n",
       "      <td>-0.6</td>\n",
       "      <td>14.4</td>\n",
       "      <td>-1.1</td>\n",
       "      <td>8.9</td>\n",
       "      <td>10.0</td>\n",
       "      <td>7.2</td>\n",
       "      <td>11.7</td>\n",
       "    </tr>\n",
       "    <tr>\n",
       "      <th>2006-01-01 02:00:00</th>\n",
       "      <td>NaN</td>\n",
       "      <td>-3.0</td>\n",
       "      <td>-2.2</td>\n",
       "      <td>5.6</td>\n",
       "      <td>17.8</td>\n",
       "      <td>3.9</td>\n",
       "      <td>-0.6</td>\n",
       "      <td>1.7</td>\n",
       "      <td>0.6</td>\n",
       "      <td>6.1</td>\n",
       "      <td>...</td>\n",
       "      <td>-2.8</td>\n",
       "      <td>1.7</td>\n",
       "      <td>13.3</td>\n",
       "      <td>0.0</td>\n",
       "      <td>12.8</td>\n",
       "      <td>-1.1</td>\n",
       "      <td>8.3</td>\n",
       "      <td>8.3</td>\n",
       "      <td>2.8</td>\n",
       "      <td>8.3</td>\n",
       "    </tr>\n",
       "    <tr>\n",
       "      <th>2006-01-01 03:00:00</th>\n",
       "      <td>NaN</td>\n",
       "      <td>-4.0</td>\n",
       "      <td>-2.2</td>\n",
       "      <td>5.0</td>\n",
       "      <td>16.1</td>\n",
       "      <td>3.3</td>\n",
       "      <td>0.6</td>\n",
       "      <td>1.7</td>\n",
       "      <td>0.0</td>\n",
       "      <td>6.1</td>\n",
       "      <td>...</td>\n",
       "      <td>-3.3</td>\n",
       "      <td>1.7</td>\n",
       "      <td>13.3</td>\n",
       "      <td>0.0</td>\n",
       "      <td>11.1</td>\n",
       "      <td>-1.7</td>\n",
       "      <td>3.3</td>\n",
       "      <td>8.3</td>\n",
       "      <td>1.7</td>\n",
       "      <td>8.3</td>\n",
       "    </tr>\n",
       "    <tr>\n",
       "      <th>2006-01-01 04:00:00</th>\n",
       "      <td>NaN</td>\n",
       "      <td>-4.0</td>\n",
       "      <td>-1.7</td>\n",
       "      <td>3.9</td>\n",
       "      <td>15.0</td>\n",
       "      <td>2.8</td>\n",
       "      <td>0.0</td>\n",
       "      <td>0.6</td>\n",
       "      <td>0.0</td>\n",
       "      <td>4.4</td>\n",
       "      <td>...</td>\n",
       "      <td>-3.3</td>\n",
       "      <td>1.7</td>\n",
       "      <td>13.9</td>\n",
       "      <td>0.0</td>\n",
       "      <td>8.9</td>\n",
       "      <td>-2.2</td>\n",
       "      <td>5.6</td>\n",
       "      <td>7.2</td>\n",
       "      <td>6.1</td>\n",
       "      <td>7.2</td>\n",
       "    </tr>\n",
       "  </tbody>\n",
       "</table>\n",
       "<p>5 rows × 34 columns</p>\n",
       "</div>"
      ]
     },
     "execution_count": 4,
     "metadata": {},
     "output_type": "execute_result"
    }
   ],
   "execution_count": 4
  },
  {
   "cell_type": "code",
   "source": "def fill_nan(df):\n    df = df.copy()\n\n    for col in df.columns:\n        nan_indices = df[df[col].isna()].index\n\n        for idx in tqdm(nan_indices):\n            values = []\n\n            for i in range(1, 8):  \n                prev = idx - pd.Timedelta(days=i)\n                next = idx + pd.Timedelta(days=i)\n\n                if prev in df.index and not pd.isna(df.at[prev, col]):\n                    values.append(df.at[prev, col])\n                if next in df.index and not pd.isna(df.at[next, col]):\n                    values.append(df.at[next, col])\n\n            if values:\n                df.at[idx, col] = np.mean(values)\n    \n    return df",
   "metadata": {
    "trusted": true,
    "execution": {
     "iopub.status.busy": "2025-05-19T04:15:45.418675Z",
     "iopub.execute_input": "2025-05-19T04:15:45.419011Z",
     "iopub.status.idle": "2025-05-19T04:15:45.426787Z",
     "shell.execute_reply.started": "2025-05-19T04:15:45.418947Z",
     "shell.execute_reply": "2025-05-19T04:15:45.425875Z"
    },
    "ExecuteTime": {
     "end_time": "2025-05-19T10:33:12.864647Z",
     "start_time": "2025-05-19T10:33:12.855334Z"
    }
   },
   "outputs": [],
   "execution_count": 5
  },
  {
   "cell_type": "code",
   "source": "df = fill_nan(df)\ndf.head()",
   "metadata": {
    "trusted": true,
    "execution": {
     "iopub.status.busy": "2025-05-19T04:15:45.428087Z",
     "iopub.execute_input": "2025-05-19T04:15:45.428955Z",
     "iopub.status.idle": "2025-05-19T04:16:18.055093Z",
     "shell.execute_reply.started": "2025-05-19T04:15:45.428917Z",
     "shell.execute_reply": "2025-05-19T04:16:18.053926Z"
    },
    "ExecuteTime": {
     "end_time": "2025-05-19T10:33:33.642519Z",
     "start_time": "2025-05-19T10:33:14.085104Z"
    }
   },
   "outputs": [
    {
     "data": {
      "text/plain": [
       "  0%|          | 0/3665 [00:00<?, ?it/s]"
      ],
      "application/vnd.jupyter.widget-view+json": {
       "version_major": 2,
       "version_minor": 0,
       "model_id": "da929b6e72924b43a869d37734ebec68"
      }
     },
     "metadata": {},
     "output_type": "display_data"
    },
    {
     "data": {
      "text/plain": [
       "  0%|          | 0/25288 [00:00<?, ?it/s]"
      ],
      "application/vnd.jupyter.widget-view+json": {
       "version_major": 2,
       "version_minor": 0,
       "model_id": "1b609e8adc25419c92f554f0dc463ef9"
      }
     },
     "metadata": {},
     "output_type": "display_data"
    },
    {
     "data": {
      "text/plain": [
       "  0%|          | 0/378 [00:00<?, ?it/s]"
      ],
      "application/vnd.jupyter.widget-view+json": {
       "version_major": 2,
       "version_minor": 0,
       "model_id": "4a5d7db39e65434aa3baa6878029f5eb"
      }
     },
     "metadata": {},
     "output_type": "display_data"
    },
    {
     "data": {
      "text/plain": [
       "  0%|          | 0/1118 [00:00<?, ?it/s]"
      ],
      "application/vnd.jupyter.widget-view+json": {
       "version_major": 2,
       "version_minor": 0,
       "model_id": "0d93138a31894d19ae123afe199c33d4"
      }
     },
     "metadata": {},
     "output_type": "display_data"
    },
    {
     "data": {
      "text/plain": [
       "  0%|          | 0/111 [00:00<?, ?it/s]"
      ],
      "application/vnd.jupyter.widget-view+json": {
       "version_major": 2,
       "version_minor": 0,
       "model_id": "66c8be528b69415cb96d483c1eb49ee4"
      }
     },
     "metadata": {},
     "output_type": "display_data"
    },
    {
     "data": {
      "text/plain": [
       "  0%|          | 0/433 [00:00<?, ?it/s]"
      ],
      "application/vnd.jupyter.widget-view+json": {
       "version_major": 2,
       "version_minor": 0,
       "model_id": "234a30bf6145462ca4a8d590a9a14993"
      }
     },
     "metadata": {},
     "output_type": "display_data"
    },
    {
     "data": {
      "text/plain": [
       "  0%|          | 0/96 [00:00<?, ?it/s]"
      ],
      "application/vnd.jupyter.widget-view+json": {
       "version_major": 2,
       "version_minor": 0,
       "model_id": "e556c0a70aee46968fd2dd87bf0b4a76"
      }
     },
     "metadata": {},
     "output_type": "display_data"
    },
    {
     "data": {
      "text/plain": [
       "  0%|          | 0/10 [00:00<?, ?it/s]"
      ],
      "application/vnd.jupyter.widget-view+json": {
       "version_major": 2,
       "version_minor": 0,
       "model_id": "b12a1ac139fa487eab7710c240c575b1"
      }
     },
     "metadata": {},
     "output_type": "display_data"
    },
    {
     "data": {
      "text/plain": [
       "  0%|          | 0/10 [00:00<?, ?it/s]"
      ],
      "application/vnd.jupyter.widget-view+json": {
       "version_major": 2,
       "version_minor": 0,
       "model_id": "1bc8d72f80a64188aab9fc02aaa40736"
      }
     },
     "metadata": {},
     "output_type": "display_data"
    },
    {
     "data": {
      "text/plain": [
       "  0%|          | 0/319 [00:00<?, ?it/s]"
      ],
      "application/vnd.jupyter.widget-view+json": {
       "version_major": 2,
       "version_minor": 0,
       "model_id": "9487d8d0d9664840813e65bce5b73acc"
      }
     },
     "metadata": {},
     "output_type": "display_data"
    },
    {
     "data": {
      "text/plain": [
       "  0%|          | 0/327 [00:00<?, ?it/s]"
      ],
      "application/vnd.jupyter.widget-view+json": {
       "version_major": 2,
       "version_minor": 0,
       "model_id": "2a5b097e0ced44feb65b9e686d4c2a33"
      }
     },
     "metadata": {},
     "output_type": "display_data"
    },
    {
     "data": {
      "text/plain": [
       "  0%|          | 0/1446 [00:00<?, ?it/s]"
      ],
      "application/vnd.jupyter.widget-view+json": {
       "version_major": 2,
       "version_minor": 0,
       "model_id": "77489b2f1f8f4a22b8e4523c4d7d31f1"
      }
     },
     "metadata": {},
     "output_type": "display_data"
    },
    {
     "data": {
      "text/plain": [
       "  0%|          | 0/179 [00:00<?, ?it/s]"
      ],
      "application/vnd.jupyter.widget-view+json": {
       "version_major": 2,
       "version_minor": 0,
       "model_id": "27bba4464b0c449b9b7907873d7b37a8"
      }
     },
     "metadata": {},
     "output_type": "display_data"
    },
    {
     "data": {
      "text/plain": [
       "  0%|          | 0/5358 [00:00<?, ?it/s]"
      ],
      "application/vnd.jupyter.widget-view+json": {
       "version_major": 2,
       "version_minor": 0,
       "model_id": "d154997e506447d197340e39a1450c85"
      }
     },
     "metadata": {},
     "output_type": "display_data"
    },
    {
     "data": {
      "text/plain": [
       "  0%|          | 0/11 [00:00<?, ?it/s]"
      ],
      "application/vnd.jupyter.widget-view+json": {
       "version_major": 2,
       "version_minor": 0,
       "model_id": "738a0b03a24e4812901a0cf83c6c3703"
      }
     },
     "metadata": {},
     "output_type": "display_data"
    },
    {
     "data": {
      "text/plain": [
       "  0%|          | 0/164 [00:00<?, ?it/s]"
      ],
      "application/vnd.jupyter.widget-view+json": {
       "version_major": 2,
       "version_minor": 0,
       "model_id": "c6318f41814f4deab5392e93f9288756"
      }
     },
     "metadata": {},
     "output_type": "display_data"
    },
    {
     "data": {
      "text/plain": [
       "  0%|          | 0/1669 [00:00<?, ?it/s]"
      ],
      "application/vnd.jupyter.widget-view+json": {
       "version_major": 2,
       "version_minor": 0,
       "model_id": "0aec9840dbb44db994c1606616bdb251"
      }
     },
     "metadata": {},
     "output_type": "display_data"
    },
    {
     "data": {
      "text/plain": [
       "  0%|          | 0/6596 [00:00<?, ?it/s]"
      ],
      "application/vnd.jupyter.widget-view+json": {
       "version_major": 2,
       "version_minor": 0,
       "model_id": "72e6f5c814a04663a58d06ad87f391d9"
      }
     },
     "metadata": {},
     "output_type": "display_data"
    },
    {
     "data": {
      "text/plain": [
       "  0%|          | 0/647 [00:00<?, ?it/s]"
      ],
      "application/vnd.jupyter.widget-view+json": {
       "version_major": 2,
       "version_minor": 0,
       "model_id": "c0148d2dbaae4105ab4cd68e1b0755d4"
      }
     },
     "metadata": {},
     "output_type": "display_data"
    },
    {
     "data": {
      "text/plain": [
       "  0%|          | 0/780 [00:00<?, ?it/s]"
      ],
      "application/vnd.jupyter.widget-view+json": {
       "version_major": 2,
       "version_minor": 0,
       "model_id": "75ddc1ee5edc4c2bb523d0cec8c50300"
      }
     },
     "metadata": {},
     "output_type": "display_data"
    },
    {
     "data": {
      "text/plain": [
       "  0%|          | 0/246 [00:00<?, ?it/s]"
      ],
      "application/vnd.jupyter.widget-view+json": {
       "version_major": 2,
       "version_minor": 0,
       "model_id": "c242c5f938b84818be1d0048404d3502"
      }
     },
     "metadata": {},
     "output_type": "display_data"
    },
    {
     "data": {
      "text/plain": [
       "  0%|          | 0/738 [00:00<?, ?it/s]"
      ],
      "application/vnd.jupyter.widget-view+json": {
       "version_major": 2,
       "version_minor": 0,
       "model_id": "501098e4737845ac9ea20bcdfa245c22"
      }
     },
     "metadata": {},
     "output_type": "display_data"
    },
    {
     "data": {
      "text/plain": [
       "  0%|          | 0/14 [00:00<?, ?it/s]"
      ],
      "application/vnd.jupyter.widget-view+json": {
       "version_major": 2,
       "version_minor": 0,
       "model_id": "ff27ce7e2f6f4bb6b26e00f0b26ce5fb"
      }
     },
     "metadata": {},
     "output_type": "display_data"
    },
    {
     "data": {
      "text/plain": [
       "  0%|          | 0/28 [00:00<?, ?it/s]"
      ],
      "application/vnd.jupyter.widget-view+json": {
       "version_major": 2,
       "version_minor": 0,
       "model_id": "ea41b6c0f8b742cea71e38ff30816517"
      }
     },
     "metadata": {},
     "output_type": "display_data"
    },
    {
     "data": {
      "text/plain": [
       "  0%|          | 0/82 [00:00<?, ?it/s]"
      ],
      "application/vnd.jupyter.widget-view+json": {
       "version_major": 2,
       "version_minor": 0,
       "model_id": "582419458aa640db857dc1500d5ddd30"
      }
     },
     "metadata": {},
     "output_type": "display_data"
    },
    {
     "data": {
      "text/plain": [
       "  0%|          | 0/199 [00:00<?, ?it/s]"
      ],
      "application/vnd.jupyter.widget-view+json": {
       "version_major": 2,
       "version_minor": 0,
       "model_id": "f4054a98bc014b0ca217abca9693a268"
      }
     },
     "metadata": {},
     "output_type": "display_data"
    },
    {
     "data": {
      "text/plain": [
       "  0%|          | 0/957 [00:00<?, ?it/s]"
      ],
      "application/vnd.jupyter.widget-view+json": {
       "version_major": 2,
       "version_minor": 0,
       "model_id": "323bf0c3e8a444ca9832312368ea62f0"
      }
     },
     "metadata": {},
     "output_type": "display_data"
    },
    {
     "data": {
      "text/plain": [
       "  0%|          | 0/51 [00:00<?, ?it/s]"
      ],
      "application/vnd.jupyter.widget-view+json": {
       "version_major": 2,
       "version_minor": 0,
       "model_id": "ae22481330a04f369fa45d6197609540"
      }
     },
     "metadata": {},
     "output_type": "display_data"
    },
    {
     "data": {
      "text/plain": [
       "  0%|          | 0/639 [00:00<?, ?it/s]"
      ],
      "application/vnd.jupyter.widget-view+json": {
       "version_major": 2,
       "version_minor": 0,
       "model_id": "37320d5262ca46649ef981d9425241ce"
      }
     },
     "metadata": {},
     "output_type": "display_data"
    },
    {
     "data": {
      "text/plain": [
       "  0%|          | 0/750 [00:00<?, ?it/s]"
      ],
      "application/vnd.jupyter.widget-view+json": {
       "version_major": 2,
       "version_minor": 0,
       "model_id": "7417647b8a9140138b9dd5c66196659f"
      }
     },
     "metadata": {},
     "output_type": "display_data"
    },
    {
     "data": {
      "text/plain": [
       "  0%|          | 0/2462 [00:00<?, ?it/s]"
      ],
      "application/vnd.jupyter.widget-view+json": {
       "version_major": 2,
       "version_minor": 0,
       "model_id": "73be753eeb34486f93028547d6d08d39"
      }
     },
     "metadata": {},
     "output_type": "display_data"
    },
    {
     "data": {
      "text/plain": [
       "  0%|          | 0/72 [00:00<?, ?it/s]"
      ],
      "application/vnd.jupyter.widget-view+json": {
       "version_major": 2,
       "version_minor": 0,
       "model_id": "21b20c52004343279d9a887099bbcdff"
      }
     },
     "metadata": {},
     "output_type": "display_data"
    },
    {
     "data": {
      "text/plain": [
       "  0%|          | 0/184 [00:00<?, ?it/s]"
      ],
      "application/vnd.jupyter.widget-view+json": {
       "version_major": 2,
       "version_minor": 0,
       "model_id": "3ff96c2de637438aa57d009526f7deb0"
      }
     },
     "metadata": {},
     "output_type": "display_data"
    },
    {
     "data": {
      "text/plain": [
       "  0%|          | 0/9538 [00:00<?, ?it/s]"
      ],
      "application/vnd.jupyter.widget-view+json": {
       "version_major": 2,
       "version_minor": 0,
       "model_id": "6e247b65e87d43d9add9963767771e93"
      }
     },
     "metadata": {},
     "output_type": "display_data"
    },
    {
     "data": {
      "text/plain": [
       "                     arkansas_temp  colorado_temp  connecticut_temp  \\\n",
       "time                                                                  \n",
       "2006-01-01 00:00:00           11.6      -7.285714     -3.172066e-17   \n",
       "2006-01-01 01:00:00           10.4      -1.000000     -2.800000e+00   \n",
       "2006-01-01 02:00:00            9.4      -3.000000     -2.200000e+00   \n",
       "2006-01-01 03:00:00            8.0      -4.000000     -2.200000e+00   \n",
       "2006-01-01 04:00:00            6.8      -4.000000     -1.700000e+00   \n",
       "\n",
       "                     delaware_temp  florida_temp  georgia_temp  illinois_temp  \\\n",
       "time                                                                            \n",
       "2006-01-01 00:00:00       4.585714          19.4      9.928571            1.1   \n",
       "2006-01-01 01:00:00       6.100000          19.4      6.700000           -0.6   \n",
       "2006-01-01 02:00:00       5.600000          17.8      3.900000           -0.6   \n",
       "2006-01-01 03:00:00       5.000000          16.1      3.300000            0.6   \n",
       "2006-01-01 04:00:00       3.900000          15.0      2.800000            0.0   \n",
       "\n",
       "                     indiana_temp  iowa_temp  kansas_temp  ...  \\\n",
       "time                                                       ...   \n",
       "2006-01-01 00:00:00           1.7        1.1     9.614286  ...   \n",
       "2006-01-01 01:00:00           1.7        1.1     6.100000  ...   \n",
       "2006-01-01 02:00:00           1.7        0.6     6.100000  ...   \n",
       "2006-01-01 03:00:00           1.7        0.0     6.100000  ...   \n",
       "2006-01-01 04:00:00           0.6        0.0     4.400000  ...   \n",
       "\n",
       "                     north_dakota_temp  ohio_temp  oklahoma_temp  \\\n",
       "time                                                               \n",
       "2006-01-01 00:00:00               -2.8   4.528571      13.514286   \n",
       "2006-01-01 01:00:00               -2.8   1.700000      11.700000   \n",
       "2006-01-01 02:00:00               -2.8   1.700000      13.300000   \n",
       "2006-01-01 03:00:00               -3.3   1.700000      13.300000   \n",
       "2006-01-01 04:00:00               -3.3   1.700000      13.900000   \n",
       "\n",
       "                     rhode_island_temp  south_carolina_temp  \\\n",
       "time                                                          \n",
       "2006-01-01 00:00:00               -0.6            12.128571   \n",
       "2006-01-01 01:00:00               -0.6            14.400000   \n",
       "2006-01-01 02:00:00                0.0            12.800000   \n",
       "2006-01-01 03:00:00                0.0            11.100000   \n",
       "2006-01-01 04:00:00                0.0             8.900000   \n",
       "\n",
       "                     south_dakota_temp  tennessee_temp  texas_temp  \\\n",
       "time                                                                 \n",
       "2006-01-01 00:00:00           1.342857        9.285714         9.4   \n",
       "2006-01-01 01:00:00          -1.100000        8.900000        10.0   \n",
       "2006-01-01 02:00:00          -1.100000        8.300000         8.3   \n",
       "2006-01-01 03:00:00          -1.700000        3.300000         8.3   \n",
       "2006-01-01 04:00:00          -2.200000        5.600000         7.2   \n",
       "\n",
       "                     virginia_temp  wyoming_temp  \n",
       "time                                              \n",
       "2006-01-01 00:00:00       3.642857           7.6  \n",
       "2006-01-01 01:00:00       7.200000          11.7  \n",
       "2006-01-01 02:00:00       2.800000           8.3  \n",
       "2006-01-01 03:00:00       1.700000           8.3  \n",
       "2006-01-01 04:00:00       6.100000           7.2  \n",
       "\n",
       "[5 rows x 34 columns]"
      ],
      "text/html": [
       "<div>\n",
       "<style scoped>\n",
       "    .dataframe tbody tr th:only-of-type {\n",
       "        vertical-align: middle;\n",
       "    }\n",
       "\n",
       "    .dataframe tbody tr th {\n",
       "        vertical-align: top;\n",
       "    }\n",
       "\n",
       "    .dataframe thead th {\n",
       "        text-align: right;\n",
       "    }\n",
       "</style>\n",
       "<table border=\"1\" class=\"dataframe\">\n",
       "  <thead>\n",
       "    <tr style=\"text-align: right;\">\n",
       "      <th></th>\n",
       "      <th>arkansas_temp</th>\n",
       "      <th>colorado_temp</th>\n",
       "      <th>connecticut_temp</th>\n",
       "      <th>delaware_temp</th>\n",
       "      <th>florida_temp</th>\n",
       "      <th>georgia_temp</th>\n",
       "      <th>illinois_temp</th>\n",
       "      <th>indiana_temp</th>\n",
       "      <th>iowa_temp</th>\n",
       "      <th>kansas_temp</th>\n",
       "      <th>...</th>\n",
       "      <th>north_dakota_temp</th>\n",
       "      <th>ohio_temp</th>\n",
       "      <th>oklahoma_temp</th>\n",
       "      <th>rhode_island_temp</th>\n",
       "      <th>south_carolina_temp</th>\n",
       "      <th>south_dakota_temp</th>\n",
       "      <th>tennessee_temp</th>\n",
       "      <th>texas_temp</th>\n",
       "      <th>virginia_temp</th>\n",
       "      <th>wyoming_temp</th>\n",
       "    </tr>\n",
       "    <tr>\n",
       "      <th>time</th>\n",
       "      <th></th>\n",
       "      <th></th>\n",
       "      <th></th>\n",
       "      <th></th>\n",
       "      <th></th>\n",
       "      <th></th>\n",
       "      <th></th>\n",
       "      <th></th>\n",
       "      <th></th>\n",
       "      <th></th>\n",
       "      <th></th>\n",
       "      <th></th>\n",
       "      <th></th>\n",
       "      <th></th>\n",
       "      <th></th>\n",
       "      <th></th>\n",
       "      <th></th>\n",
       "      <th></th>\n",
       "      <th></th>\n",
       "      <th></th>\n",
       "      <th></th>\n",
       "    </tr>\n",
       "  </thead>\n",
       "  <tbody>\n",
       "    <tr>\n",
       "      <th>2006-01-01 00:00:00</th>\n",
       "      <td>11.6</td>\n",
       "      <td>-7.285714</td>\n",
       "      <td>-3.172066e-17</td>\n",
       "      <td>4.585714</td>\n",
       "      <td>19.4</td>\n",
       "      <td>9.928571</td>\n",
       "      <td>1.1</td>\n",
       "      <td>1.7</td>\n",
       "      <td>1.1</td>\n",
       "      <td>9.614286</td>\n",
       "      <td>...</td>\n",
       "      <td>-2.8</td>\n",
       "      <td>4.528571</td>\n",
       "      <td>13.514286</td>\n",
       "      <td>-0.6</td>\n",
       "      <td>12.128571</td>\n",
       "      <td>1.342857</td>\n",
       "      <td>9.285714</td>\n",
       "      <td>9.4</td>\n",
       "      <td>3.642857</td>\n",
       "      <td>7.6</td>\n",
       "    </tr>\n",
       "    <tr>\n",
       "      <th>2006-01-01 01:00:00</th>\n",
       "      <td>10.4</td>\n",
       "      <td>-1.000000</td>\n",
       "      <td>-2.800000e+00</td>\n",
       "      <td>6.100000</td>\n",
       "      <td>19.4</td>\n",
       "      <td>6.700000</td>\n",
       "      <td>-0.6</td>\n",
       "      <td>1.7</td>\n",
       "      <td>1.1</td>\n",
       "      <td>6.100000</td>\n",
       "      <td>...</td>\n",
       "      <td>-2.8</td>\n",
       "      <td>1.700000</td>\n",
       "      <td>11.700000</td>\n",
       "      <td>-0.6</td>\n",
       "      <td>14.400000</td>\n",
       "      <td>-1.100000</td>\n",
       "      <td>8.900000</td>\n",
       "      <td>10.0</td>\n",
       "      <td>7.200000</td>\n",
       "      <td>11.7</td>\n",
       "    </tr>\n",
       "    <tr>\n",
       "      <th>2006-01-01 02:00:00</th>\n",
       "      <td>9.4</td>\n",
       "      <td>-3.000000</td>\n",
       "      <td>-2.200000e+00</td>\n",
       "      <td>5.600000</td>\n",
       "      <td>17.8</td>\n",
       "      <td>3.900000</td>\n",
       "      <td>-0.6</td>\n",
       "      <td>1.7</td>\n",
       "      <td>0.6</td>\n",
       "      <td>6.100000</td>\n",
       "      <td>...</td>\n",
       "      <td>-2.8</td>\n",
       "      <td>1.700000</td>\n",
       "      <td>13.300000</td>\n",
       "      <td>0.0</td>\n",
       "      <td>12.800000</td>\n",
       "      <td>-1.100000</td>\n",
       "      <td>8.300000</td>\n",
       "      <td>8.3</td>\n",
       "      <td>2.800000</td>\n",
       "      <td>8.3</td>\n",
       "    </tr>\n",
       "    <tr>\n",
       "      <th>2006-01-01 03:00:00</th>\n",
       "      <td>8.0</td>\n",
       "      <td>-4.000000</td>\n",
       "      <td>-2.200000e+00</td>\n",
       "      <td>5.000000</td>\n",
       "      <td>16.1</td>\n",
       "      <td>3.300000</td>\n",
       "      <td>0.6</td>\n",
       "      <td>1.7</td>\n",
       "      <td>0.0</td>\n",
       "      <td>6.100000</td>\n",
       "      <td>...</td>\n",
       "      <td>-3.3</td>\n",
       "      <td>1.700000</td>\n",
       "      <td>13.300000</td>\n",
       "      <td>0.0</td>\n",
       "      <td>11.100000</td>\n",
       "      <td>-1.700000</td>\n",
       "      <td>3.300000</td>\n",
       "      <td>8.3</td>\n",
       "      <td>1.700000</td>\n",
       "      <td>8.3</td>\n",
       "    </tr>\n",
       "    <tr>\n",
       "      <th>2006-01-01 04:00:00</th>\n",
       "      <td>6.8</td>\n",
       "      <td>-4.000000</td>\n",
       "      <td>-1.700000e+00</td>\n",
       "      <td>3.900000</td>\n",
       "      <td>15.0</td>\n",
       "      <td>2.800000</td>\n",
       "      <td>0.0</td>\n",
       "      <td>0.6</td>\n",
       "      <td>0.0</td>\n",
       "      <td>4.400000</td>\n",
       "      <td>...</td>\n",
       "      <td>-3.3</td>\n",
       "      <td>1.700000</td>\n",
       "      <td>13.900000</td>\n",
       "      <td>0.0</td>\n",
       "      <td>8.900000</td>\n",
       "      <td>-2.200000</td>\n",
       "      <td>5.600000</td>\n",
       "      <td>7.2</td>\n",
       "      <td>6.100000</td>\n",
       "      <td>7.2</td>\n",
       "    </tr>\n",
       "  </tbody>\n",
       "</table>\n",
       "<p>5 rows × 34 columns</p>\n",
       "</div>"
      ]
     },
     "execution_count": 6,
     "metadata": {},
     "output_type": "execute_result"
    }
   ],
   "execution_count": 6
  },
  {
   "cell_type": "code",
   "source": "df.isna().sum().sum()",
   "metadata": {
    "trusted": true,
    "execution": {
     "iopub.status.busy": "2025-05-19T04:16:29.256028Z",
     "iopub.execute_input": "2025-05-19T04:16:29.256319Z",
     "iopub.status.idle": "2025-05-19T04:16:29.294058Z",
     "shell.execute_reply.started": "2025-05-19T04:16:29.256298Z",
     "shell.execute_reply": "2025-05-19T04:16:29.293156Z"
    },
    "ExecuteTime": {
     "end_time": "2025-05-19T10:33:36.822357Z",
     "start_time": "2025-05-19T10:33:36.791792Z"
    }
   },
   "outputs": [
    {
     "data": {
      "text/plain": [
       "0"
      ]
     },
     "execution_count": 7,
     "metadata": {},
     "output_type": "execute_result"
    }
   ],
   "execution_count": 7
  },
  {
   "cell_type": "code",
   "source": "df = df.round(1)\ndf.head()",
   "metadata": {
    "trusted": true,
    "execution": {
     "iopub.status.busy": "2025-05-19T04:16:30.124139Z",
     "iopub.execute_input": "2025-05-19T04:16:30.124460Z",
     "iopub.status.idle": "2025-05-19T04:16:30.180787Z",
     "shell.execute_reply.started": "2025-05-19T04:16:30.124439Z",
     "shell.execute_reply": "2025-05-19T04:16:30.179857Z"
    },
    "ExecuteTime": {
     "end_time": "2025-05-19T10:33:38.765912Z",
     "start_time": "2025-05-19T10:33:38.633785Z"
    }
   },
   "outputs": [
    {
     "data": {
      "text/plain": [
       "                     arkansas_temp  colorado_temp  connecticut_temp  \\\n",
       "time                                                                  \n",
       "2006-01-01 00:00:00           11.6           -7.3              -0.0   \n",
       "2006-01-01 01:00:00           10.4           -1.0              -2.8   \n",
       "2006-01-01 02:00:00            9.4           -3.0              -2.2   \n",
       "2006-01-01 03:00:00            8.0           -4.0              -2.2   \n",
       "2006-01-01 04:00:00            6.8           -4.0              -1.7   \n",
       "\n",
       "                     delaware_temp  florida_temp  georgia_temp  illinois_temp  \\\n",
       "time                                                                            \n",
       "2006-01-01 00:00:00            4.6          19.4           9.9            1.1   \n",
       "2006-01-01 01:00:00            6.1          19.4           6.7           -0.6   \n",
       "2006-01-01 02:00:00            5.6          17.8           3.9           -0.6   \n",
       "2006-01-01 03:00:00            5.0          16.1           3.3            0.6   \n",
       "2006-01-01 04:00:00            3.9          15.0           2.8            0.0   \n",
       "\n",
       "                     indiana_temp  iowa_temp  kansas_temp  ...  \\\n",
       "time                                                       ...   \n",
       "2006-01-01 00:00:00           1.7        1.1          9.6  ...   \n",
       "2006-01-01 01:00:00           1.7        1.1          6.1  ...   \n",
       "2006-01-01 02:00:00           1.7        0.6          6.1  ...   \n",
       "2006-01-01 03:00:00           1.7        0.0          6.1  ...   \n",
       "2006-01-01 04:00:00           0.6        0.0          4.4  ...   \n",
       "\n",
       "                     north_dakota_temp  ohio_temp  oklahoma_temp  \\\n",
       "time                                                               \n",
       "2006-01-01 00:00:00               -2.8        4.5           13.5   \n",
       "2006-01-01 01:00:00               -2.8        1.7           11.7   \n",
       "2006-01-01 02:00:00               -2.8        1.7           13.3   \n",
       "2006-01-01 03:00:00               -3.3        1.7           13.3   \n",
       "2006-01-01 04:00:00               -3.3        1.7           13.9   \n",
       "\n",
       "                     rhode_island_temp  south_carolina_temp  \\\n",
       "time                                                          \n",
       "2006-01-01 00:00:00               -0.6                 12.1   \n",
       "2006-01-01 01:00:00               -0.6                 14.4   \n",
       "2006-01-01 02:00:00                0.0                 12.8   \n",
       "2006-01-01 03:00:00                0.0                 11.1   \n",
       "2006-01-01 04:00:00                0.0                  8.9   \n",
       "\n",
       "                     south_dakota_temp  tennessee_temp  texas_temp  \\\n",
       "time                                                                 \n",
       "2006-01-01 00:00:00                1.3             9.3         9.4   \n",
       "2006-01-01 01:00:00               -1.1             8.9        10.0   \n",
       "2006-01-01 02:00:00               -1.1             8.3         8.3   \n",
       "2006-01-01 03:00:00               -1.7             3.3         8.3   \n",
       "2006-01-01 04:00:00               -2.2             5.6         7.2   \n",
       "\n",
       "                     virginia_temp  wyoming_temp  \n",
       "time                                              \n",
       "2006-01-01 00:00:00            3.6           7.6  \n",
       "2006-01-01 01:00:00            7.2          11.7  \n",
       "2006-01-01 02:00:00            2.8           8.3  \n",
       "2006-01-01 03:00:00            1.7           8.3  \n",
       "2006-01-01 04:00:00            6.1           7.2  \n",
       "\n",
       "[5 rows x 34 columns]"
      ],
      "text/html": [
       "<div>\n",
       "<style scoped>\n",
       "    .dataframe tbody tr th:only-of-type {\n",
       "        vertical-align: middle;\n",
       "    }\n",
       "\n",
       "    .dataframe tbody tr th {\n",
       "        vertical-align: top;\n",
       "    }\n",
       "\n",
       "    .dataframe thead th {\n",
       "        text-align: right;\n",
       "    }\n",
       "</style>\n",
       "<table border=\"1\" class=\"dataframe\">\n",
       "  <thead>\n",
       "    <tr style=\"text-align: right;\">\n",
       "      <th></th>\n",
       "      <th>arkansas_temp</th>\n",
       "      <th>colorado_temp</th>\n",
       "      <th>connecticut_temp</th>\n",
       "      <th>delaware_temp</th>\n",
       "      <th>florida_temp</th>\n",
       "      <th>georgia_temp</th>\n",
       "      <th>illinois_temp</th>\n",
       "      <th>indiana_temp</th>\n",
       "      <th>iowa_temp</th>\n",
       "      <th>kansas_temp</th>\n",
       "      <th>...</th>\n",
       "      <th>north_dakota_temp</th>\n",
       "      <th>ohio_temp</th>\n",
       "      <th>oklahoma_temp</th>\n",
       "      <th>rhode_island_temp</th>\n",
       "      <th>south_carolina_temp</th>\n",
       "      <th>south_dakota_temp</th>\n",
       "      <th>tennessee_temp</th>\n",
       "      <th>texas_temp</th>\n",
       "      <th>virginia_temp</th>\n",
       "      <th>wyoming_temp</th>\n",
       "    </tr>\n",
       "    <tr>\n",
       "      <th>time</th>\n",
       "      <th></th>\n",
       "      <th></th>\n",
       "      <th></th>\n",
       "      <th></th>\n",
       "      <th></th>\n",
       "      <th></th>\n",
       "      <th></th>\n",
       "      <th></th>\n",
       "      <th></th>\n",
       "      <th></th>\n",
       "      <th></th>\n",
       "      <th></th>\n",
       "      <th></th>\n",
       "      <th></th>\n",
       "      <th></th>\n",
       "      <th></th>\n",
       "      <th></th>\n",
       "      <th></th>\n",
       "      <th></th>\n",
       "      <th></th>\n",
       "      <th></th>\n",
       "    </tr>\n",
       "  </thead>\n",
       "  <tbody>\n",
       "    <tr>\n",
       "      <th>2006-01-01 00:00:00</th>\n",
       "      <td>11.6</td>\n",
       "      <td>-7.3</td>\n",
       "      <td>-0.0</td>\n",
       "      <td>4.6</td>\n",
       "      <td>19.4</td>\n",
       "      <td>9.9</td>\n",
       "      <td>1.1</td>\n",
       "      <td>1.7</td>\n",
       "      <td>1.1</td>\n",
       "      <td>9.6</td>\n",
       "      <td>...</td>\n",
       "      <td>-2.8</td>\n",
       "      <td>4.5</td>\n",
       "      <td>13.5</td>\n",
       "      <td>-0.6</td>\n",
       "      <td>12.1</td>\n",
       "      <td>1.3</td>\n",
       "      <td>9.3</td>\n",
       "      <td>9.4</td>\n",
       "      <td>3.6</td>\n",
       "      <td>7.6</td>\n",
       "    </tr>\n",
       "    <tr>\n",
       "      <th>2006-01-01 01:00:00</th>\n",
       "      <td>10.4</td>\n",
       "      <td>-1.0</td>\n",
       "      <td>-2.8</td>\n",
       "      <td>6.1</td>\n",
       "      <td>19.4</td>\n",
       "      <td>6.7</td>\n",
       "      <td>-0.6</td>\n",
       "      <td>1.7</td>\n",
       "      <td>1.1</td>\n",
       "      <td>6.1</td>\n",
       "      <td>...</td>\n",
       "      <td>-2.8</td>\n",
       "      <td>1.7</td>\n",
       "      <td>11.7</td>\n",
       "      <td>-0.6</td>\n",
       "      <td>14.4</td>\n",
       "      <td>-1.1</td>\n",
       "      <td>8.9</td>\n",
       "      <td>10.0</td>\n",
       "      <td>7.2</td>\n",
       "      <td>11.7</td>\n",
       "    </tr>\n",
       "    <tr>\n",
       "      <th>2006-01-01 02:00:00</th>\n",
       "      <td>9.4</td>\n",
       "      <td>-3.0</td>\n",
       "      <td>-2.2</td>\n",
       "      <td>5.6</td>\n",
       "      <td>17.8</td>\n",
       "      <td>3.9</td>\n",
       "      <td>-0.6</td>\n",
       "      <td>1.7</td>\n",
       "      <td>0.6</td>\n",
       "      <td>6.1</td>\n",
       "      <td>...</td>\n",
       "      <td>-2.8</td>\n",
       "      <td>1.7</td>\n",
       "      <td>13.3</td>\n",
       "      <td>0.0</td>\n",
       "      <td>12.8</td>\n",
       "      <td>-1.1</td>\n",
       "      <td>8.3</td>\n",
       "      <td>8.3</td>\n",
       "      <td>2.8</td>\n",
       "      <td>8.3</td>\n",
       "    </tr>\n",
       "    <tr>\n",
       "      <th>2006-01-01 03:00:00</th>\n",
       "      <td>8.0</td>\n",
       "      <td>-4.0</td>\n",
       "      <td>-2.2</td>\n",
       "      <td>5.0</td>\n",
       "      <td>16.1</td>\n",
       "      <td>3.3</td>\n",
       "      <td>0.6</td>\n",
       "      <td>1.7</td>\n",
       "      <td>0.0</td>\n",
       "      <td>6.1</td>\n",
       "      <td>...</td>\n",
       "      <td>-3.3</td>\n",
       "      <td>1.7</td>\n",
       "      <td>13.3</td>\n",
       "      <td>0.0</td>\n",
       "      <td>11.1</td>\n",
       "      <td>-1.7</td>\n",
       "      <td>3.3</td>\n",
       "      <td>8.3</td>\n",
       "      <td>1.7</td>\n",
       "      <td>8.3</td>\n",
       "    </tr>\n",
       "    <tr>\n",
       "      <th>2006-01-01 04:00:00</th>\n",
       "      <td>6.8</td>\n",
       "      <td>-4.0</td>\n",
       "      <td>-1.7</td>\n",
       "      <td>3.9</td>\n",
       "      <td>15.0</td>\n",
       "      <td>2.8</td>\n",
       "      <td>0.0</td>\n",
       "      <td>0.6</td>\n",
       "      <td>0.0</td>\n",
       "      <td>4.4</td>\n",
       "      <td>...</td>\n",
       "      <td>-3.3</td>\n",
       "      <td>1.7</td>\n",
       "      <td>13.9</td>\n",
       "      <td>0.0</td>\n",
       "      <td>8.9</td>\n",
       "      <td>-2.2</td>\n",
       "      <td>5.6</td>\n",
       "      <td>7.2</td>\n",
       "      <td>6.1</td>\n",
       "      <td>7.2</td>\n",
       "    </tr>\n",
       "  </tbody>\n",
       "</table>\n",
       "<p>5 rows × 34 columns</p>\n",
       "</div>"
      ]
     },
     "execution_count": 8,
     "metadata": {},
     "output_type": "execute_result"
    }
   ],
   "execution_count": 8
  },
  {
   "cell_type": "code",
   "source": "df_minutely = df.resample('1T').interpolate(method='linear')\ndf_minutely = df_minutely.round(1)\ndf_minutely.head()",
   "metadata": {
    "trusted": true,
    "execution": {
     "iopub.status.busy": "2025-05-19T04:25:23.522075Z",
     "iopub.execute_input": "2025-05-19T04:25:23.522391Z",
     "iopub.status.idle": "2025-05-19T04:25:23.547490Z",
     "shell.execute_reply.started": "2025-05-19T04:25:23.522371Z",
     "shell.execute_reply": "2025-05-19T04:25:23.546736Z"
    },
    "ExecuteTime": {
     "end_time": "2025-05-19T10:34:52.102661Z",
     "start_time": "2025-05-19T10:33:42.993493Z"
    }
   },
   "outputs": [
    {
     "data": {
      "text/plain": [
       "                     arkansas_temp  colorado_temp  connecticut_temp  \\\n",
       "time                                                                  \n",
       "2006-01-01 00:00:00           11.6           -7.3              -0.0   \n",
       "2006-01-01 00:01:00           11.6           -7.2              -0.0   \n",
       "2006-01-01 00:02:00           11.6           -7.1              -0.1   \n",
       "2006-01-01 00:03:00           11.5           -7.0              -0.1   \n",
       "2006-01-01 00:04:00           11.5           -6.9              -0.2   \n",
       "\n",
       "                     delaware_temp  florida_temp  georgia_temp  illinois_temp  \\\n",
       "time                                                                            \n",
       "2006-01-01 00:00:00            4.6          19.4           9.9            1.1   \n",
       "2006-01-01 00:01:00            4.6          19.4           9.8            1.1   \n",
       "2006-01-01 00:02:00            4.6          19.4           9.8            1.0   \n",
       "2006-01-01 00:03:00            4.7          19.4           9.7            1.0   \n",
       "2006-01-01 00:04:00            4.7          19.4           9.7            1.0   \n",
       "\n",
       "                     indiana_temp  iowa_temp  kansas_temp  ...  \\\n",
       "time                                                       ...   \n",
       "2006-01-01 00:00:00           1.7        1.1          9.6  ...   \n",
       "2006-01-01 00:01:00           1.7        1.1          9.5  ...   \n",
       "2006-01-01 00:02:00           1.7        1.1          9.5  ...   \n",
       "2006-01-01 00:03:00           1.7        1.1          9.4  ...   \n",
       "2006-01-01 00:04:00           1.7        1.1          9.4  ...   \n",
       "\n",
       "                     north_dakota_temp  ohio_temp  oklahoma_temp  \\\n",
       "time                                                               \n",
       "2006-01-01 00:00:00               -2.8        4.5           13.5   \n",
       "2006-01-01 00:01:00               -2.8        4.5           13.5   \n",
       "2006-01-01 00:02:00               -2.8        4.4           13.4   \n",
       "2006-01-01 00:03:00               -2.8        4.4           13.4   \n",
       "2006-01-01 00:04:00               -2.8        4.3           13.4   \n",
       "\n",
       "                     rhode_island_temp  south_carolina_temp  \\\n",
       "time                                                          \n",
       "2006-01-01 00:00:00               -0.6                 12.1   \n",
       "2006-01-01 00:01:00               -0.6                 12.1   \n",
       "2006-01-01 00:02:00               -0.6                 12.2   \n",
       "2006-01-01 00:03:00               -0.6                 12.2   \n",
       "2006-01-01 00:04:00               -0.6                 12.3   \n",
       "\n",
       "                     south_dakota_temp  tennessee_temp  texas_temp  \\\n",
       "time                                                                 \n",
       "2006-01-01 00:00:00                1.3             9.3         9.4   \n",
       "2006-01-01 00:01:00                1.3             9.3         9.4   \n",
       "2006-01-01 00:02:00                1.2             9.3         9.4   \n",
       "2006-01-01 00:03:00                1.2             9.3         9.4   \n",
       "2006-01-01 00:04:00                1.1             9.3         9.4   \n",
       "\n",
       "                     virginia_temp  wyoming_temp  \n",
       "time                                              \n",
       "2006-01-01 00:00:00            3.6           7.6  \n",
       "2006-01-01 00:01:00            3.7           7.7  \n",
       "2006-01-01 00:02:00            3.7           7.7  \n",
       "2006-01-01 00:03:00            3.8           7.8  \n",
       "2006-01-01 00:04:00            3.8           7.9  \n",
       "\n",
       "[5 rows x 34 columns]"
      ],
      "text/html": [
       "<div>\n",
       "<style scoped>\n",
       "    .dataframe tbody tr th:only-of-type {\n",
       "        vertical-align: middle;\n",
       "    }\n",
       "\n",
       "    .dataframe tbody tr th {\n",
       "        vertical-align: top;\n",
       "    }\n",
       "\n",
       "    .dataframe thead th {\n",
       "        text-align: right;\n",
       "    }\n",
       "</style>\n",
       "<table border=\"1\" class=\"dataframe\">\n",
       "  <thead>\n",
       "    <tr style=\"text-align: right;\">\n",
       "      <th></th>\n",
       "      <th>arkansas_temp</th>\n",
       "      <th>colorado_temp</th>\n",
       "      <th>connecticut_temp</th>\n",
       "      <th>delaware_temp</th>\n",
       "      <th>florida_temp</th>\n",
       "      <th>georgia_temp</th>\n",
       "      <th>illinois_temp</th>\n",
       "      <th>indiana_temp</th>\n",
       "      <th>iowa_temp</th>\n",
       "      <th>kansas_temp</th>\n",
       "      <th>...</th>\n",
       "      <th>north_dakota_temp</th>\n",
       "      <th>ohio_temp</th>\n",
       "      <th>oklahoma_temp</th>\n",
       "      <th>rhode_island_temp</th>\n",
       "      <th>south_carolina_temp</th>\n",
       "      <th>south_dakota_temp</th>\n",
       "      <th>tennessee_temp</th>\n",
       "      <th>texas_temp</th>\n",
       "      <th>virginia_temp</th>\n",
       "      <th>wyoming_temp</th>\n",
       "    </tr>\n",
       "    <tr>\n",
       "      <th>time</th>\n",
       "      <th></th>\n",
       "      <th></th>\n",
       "      <th></th>\n",
       "      <th></th>\n",
       "      <th></th>\n",
       "      <th></th>\n",
       "      <th></th>\n",
       "      <th></th>\n",
       "      <th></th>\n",
       "      <th></th>\n",
       "      <th></th>\n",
       "      <th></th>\n",
       "      <th></th>\n",
       "      <th></th>\n",
       "      <th></th>\n",
       "      <th></th>\n",
       "      <th></th>\n",
       "      <th></th>\n",
       "      <th></th>\n",
       "      <th></th>\n",
       "      <th></th>\n",
       "    </tr>\n",
       "  </thead>\n",
       "  <tbody>\n",
       "    <tr>\n",
       "      <th>2006-01-01 00:00:00</th>\n",
       "      <td>11.6</td>\n",
       "      <td>-7.3</td>\n",
       "      <td>-0.0</td>\n",
       "      <td>4.6</td>\n",
       "      <td>19.4</td>\n",
       "      <td>9.9</td>\n",
       "      <td>1.1</td>\n",
       "      <td>1.7</td>\n",
       "      <td>1.1</td>\n",
       "      <td>9.6</td>\n",
       "      <td>...</td>\n",
       "      <td>-2.8</td>\n",
       "      <td>4.5</td>\n",
       "      <td>13.5</td>\n",
       "      <td>-0.6</td>\n",
       "      <td>12.1</td>\n",
       "      <td>1.3</td>\n",
       "      <td>9.3</td>\n",
       "      <td>9.4</td>\n",
       "      <td>3.6</td>\n",
       "      <td>7.6</td>\n",
       "    </tr>\n",
       "    <tr>\n",
       "      <th>2006-01-01 00:01:00</th>\n",
       "      <td>11.6</td>\n",
       "      <td>-7.2</td>\n",
       "      <td>-0.0</td>\n",
       "      <td>4.6</td>\n",
       "      <td>19.4</td>\n",
       "      <td>9.8</td>\n",
       "      <td>1.1</td>\n",
       "      <td>1.7</td>\n",
       "      <td>1.1</td>\n",
       "      <td>9.5</td>\n",
       "      <td>...</td>\n",
       "      <td>-2.8</td>\n",
       "      <td>4.5</td>\n",
       "      <td>13.5</td>\n",
       "      <td>-0.6</td>\n",
       "      <td>12.1</td>\n",
       "      <td>1.3</td>\n",
       "      <td>9.3</td>\n",
       "      <td>9.4</td>\n",
       "      <td>3.7</td>\n",
       "      <td>7.7</td>\n",
       "    </tr>\n",
       "    <tr>\n",
       "      <th>2006-01-01 00:02:00</th>\n",
       "      <td>11.6</td>\n",
       "      <td>-7.1</td>\n",
       "      <td>-0.1</td>\n",
       "      <td>4.6</td>\n",
       "      <td>19.4</td>\n",
       "      <td>9.8</td>\n",
       "      <td>1.0</td>\n",
       "      <td>1.7</td>\n",
       "      <td>1.1</td>\n",
       "      <td>9.5</td>\n",
       "      <td>...</td>\n",
       "      <td>-2.8</td>\n",
       "      <td>4.4</td>\n",
       "      <td>13.4</td>\n",
       "      <td>-0.6</td>\n",
       "      <td>12.2</td>\n",
       "      <td>1.2</td>\n",
       "      <td>9.3</td>\n",
       "      <td>9.4</td>\n",
       "      <td>3.7</td>\n",
       "      <td>7.7</td>\n",
       "    </tr>\n",
       "    <tr>\n",
       "      <th>2006-01-01 00:03:00</th>\n",
       "      <td>11.5</td>\n",
       "      <td>-7.0</td>\n",
       "      <td>-0.1</td>\n",
       "      <td>4.7</td>\n",
       "      <td>19.4</td>\n",
       "      <td>9.7</td>\n",
       "      <td>1.0</td>\n",
       "      <td>1.7</td>\n",
       "      <td>1.1</td>\n",
       "      <td>9.4</td>\n",
       "      <td>...</td>\n",
       "      <td>-2.8</td>\n",
       "      <td>4.4</td>\n",
       "      <td>13.4</td>\n",
       "      <td>-0.6</td>\n",
       "      <td>12.2</td>\n",
       "      <td>1.2</td>\n",
       "      <td>9.3</td>\n",
       "      <td>9.4</td>\n",
       "      <td>3.8</td>\n",
       "      <td>7.8</td>\n",
       "    </tr>\n",
       "    <tr>\n",
       "      <th>2006-01-01 00:04:00</th>\n",
       "      <td>11.5</td>\n",
       "      <td>-6.9</td>\n",
       "      <td>-0.2</td>\n",
       "      <td>4.7</td>\n",
       "      <td>19.4</td>\n",
       "      <td>9.7</td>\n",
       "      <td>1.0</td>\n",
       "      <td>1.7</td>\n",
       "      <td>1.1</td>\n",
       "      <td>9.4</td>\n",
       "      <td>...</td>\n",
       "      <td>-2.8</td>\n",
       "      <td>4.3</td>\n",
       "      <td>13.4</td>\n",
       "      <td>-0.6</td>\n",
       "      <td>12.3</td>\n",
       "      <td>1.1</td>\n",
       "      <td>9.3</td>\n",
       "      <td>9.4</td>\n",
       "      <td>3.8</td>\n",
       "      <td>7.9</td>\n",
       "    </tr>\n",
       "  </tbody>\n",
       "</table>\n",
       "<p>5 rows × 34 columns</p>\n",
       "</div>"
      ]
     },
     "execution_count": 9,
     "metadata": {},
     "output_type": "execute_result"
    }
   ],
   "execution_count": 9
  },
  {
   "cell_type": "code",
   "source": "df_minutely.to_csv(\"us_eastern_regions_minutely_temperature_2006_to_2025.csv\")",
   "metadata": {
    "trusted": true,
    "execution": {
     "iopub.status.busy": "2025-05-19T04:26:31.760732Z",
     "iopub.execute_input": "2025-05-19T04:26:31.761096Z",
     "iopub.status.idle": "2025-05-19T04:31:27.063641Z",
     "shell.execute_reply.started": "2025-05-19T04:26:31.761073Z",
     "shell.execute_reply": "2025-05-19T04:31:27.062304Z"
    },
    "ExecuteTime": {
     "end_time": "2025-05-19T10:38:36.237224Z",
     "start_time": "2025-05-19T10:35:08.948183Z"
    }
   },
   "outputs": [],
   "execution_count": 10
  }
 ]
}
