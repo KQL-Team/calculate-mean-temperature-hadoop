{
 "metadata": {
  "kernelspec": {
   "language": "python",
   "display_name": "Python 3",
   "name": "python3"
  },
  "language_info": {
   "name": "python",
   "version": "3.11.11",
   "mimetype": "text/x-python",
   "codemirror_mode": {
    "name": "ipython",
    "version": 3
   },
   "pygments_lexer": "ipython3",
   "nbconvert_exporter": "python",
   "file_extension": ".py"
  },
  "kaggle": {
   "accelerator": "none",
   "dataSources": [
    {
     "sourceId": 11865524,
     "sourceType": "datasetVersion",
     "datasetId": 7456143
    }
   ],
   "dockerImageVersionId": 31040,
   "isInternetEnabled": true,
   "language": "python",
   "sourceType": "notebook",
   "isGpuEnabled": false
  }
 },
 "nbformat_minor": 4,
 "nbformat": 4,
 "cells": [
  {
   "cell_type": "code",
   "source": "import numpy as np\nimport pandas as pd\nfrom tqdm.autonotebook import tqdm\nimport warnings \nwarnings.filterwarnings(\"ignore\")",
   "metadata": {
    "_uuid": "8f2839f25d086af736a60e9eeb907d3b93b6e0e5",
    "_cell_guid": "b1076dfc-b9ad-4769-8c92-a6c4dae69d19",
    "trusted": true,
    "execution": {
     "iopub.status.busy": "2025-05-19T04:15:41.308037Z",
     "iopub.execute_input": "2025-05-19T04:15:41.308404Z",
     "iopub.status.idle": "2025-05-19T04:15:44.163817Z",
     "shell.execute_reply.started": "2025-05-19T04:15:41.308370Z",
     "shell.execute_reply": "2025-05-19T04:15:44.162793Z"
    },
    "ExecuteTime": {
     "end_time": "2025-05-19T10:30:07.786542Z",
     "start_time": "2025-05-19T10:30:07.780603Z"
    }
   },
   "outputs": [],
   "execution_count": 2
  },
  {
   "cell_type": "code",
   "source": [
    "df = pd.read_csv(\"us_eastern_regions_hourly_temperature_2006_to_2025.csv\")\n",
    "df['time'] = pd.to_datetime(df['time'])\n",
    "df.set_index('time', inplace=True)\n",
    "df.head()"
   ],
   "metadata": {
    "trusted": true,
    "execution": {
     "iopub.status.busy": "2025-05-19T04:15:44.164797Z",
     "iopub.execute_input": "2025-05-19T04:15:44.165298Z",
     "iopub.status.idle": "2025-05-19T04:15:45.416961Z",
     "shell.execute_reply.started": "2025-05-19T04:15:44.165267Z",
     "shell.execute_reply": "2025-05-19T04:15:45.415545Z"
    },
    "ExecuteTime": {
     "end_time": "2025-05-19T10:30:11.407549Z",
     "start_time": "2025-05-19T10:30:10.803982Z"
    }
   },
   "outputs": [
    {
     "data": {
      "text/plain": [
       "                     arkansas_temp  colorado_temp  connecticut_temp  \\\n",
       "time                                                                  \n",
       "2006-01-01 00:00:00            NaN            NaN               NaN   \n",
       "2006-01-01 01:00:00            NaN           -1.0              -2.8   \n",
       "2006-01-01 02:00:00            NaN           -3.0              -2.2   \n",
       "2006-01-01 03:00:00            NaN           -4.0              -2.2   \n",
       "2006-01-01 04:00:00            NaN           -4.0              -1.7   \n",
       "\n",
       "                     delaware_temp  florida_temp  georgia_temp  illinois_temp  \\\n",
       "time                                                                            \n",
       "2006-01-01 00:00:00            NaN          19.4           NaN            1.1   \n",
       "2006-01-01 01:00:00            6.1          19.4           6.7           -0.6   \n",
       "2006-01-01 02:00:00            5.6          17.8           3.9           -0.6   \n",
       "2006-01-01 03:00:00            5.0          16.1           3.3            0.6   \n",
       "2006-01-01 04:00:00            3.9          15.0           2.8            0.0   \n",
       "\n",
       "                     indiana_temp  iowa_temp  kansas_temp  ...  \\\n",
       "time                                                       ...   \n",
       "2006-01-01 00:00:00           1.7        1.1          NaN  ...   \n",
       "2006-01-01 01:00:00           1.7        1.1          6.1  ...   \n",
       "2006-01-01 02:00:00           1.7        0.6          6.1  ...   \n",
       "2006-01-01 03:00:00           1.7        0.0          6.1  ...   \n",
       "2006-01-01 04:00:00           0.6        0.0          4.4  ...   \n",
       "\n",
       "                     north_dakota_temp  ohio_temp  oklahoma_temp  \\\n",
       "time                                                               \n",
       "2006-01-01 00:00:00               -2.8        NaN            NaN   \n",
       "2006-01-01 01:00:00               -2.8        1.7           11.7   \n",
       "2006-01-01 02:00:00               -2.8        1.7           13.3   \n",
       "2006-01-01 03:00:00               -3.3        1.7           13.3   \n",
       "2006-01-01 04:00:00               -3.3        1.7           13.9   \n",
       "\n",
       "                     rhode_island_temp  south_carolina_temp  \\\n",
       "time                                                          \n",
       "2006-01-01 00:00:00               -0.6                  NaN   \n",
       "2006-01-01 01:00:00               -0.6                 14.4   \n",
       "2006-01-01 02:00:00                0.0                 12.8   \n",
       "2006-01-01 03:00:00                0.0                 11.1   \n",
       "2006-01-01 04:00:00                0.0                  8.9   \n",
       "\n",
       "                     south_dakota_temp  tennessee_temp  texas_temp  \\\n",
       "time                                                                 \n",
       "2006-01-01 00:00:00                NaN             NaN         9.4   \n",
       "2006-01-01 01:00:00               -1.1             8.9        10.0   \n",
       "2006-01-01 02:00:00               -1.1             8.3         8.3   \n",
       "2006-01-01 03:00:00               -1.7             3.3         8.3   \n",
       "2006-01-01 04:00:00               -2.2             5.6         7.2   \n",
       "\n",
       "                     virginia_temp  wyoming_temp  \n",
       "time                                              \n",
       "2006-01-01 00:00:00            NaN           NaN  \n",
       "2006-01-01 01:00:00            7.2          11.7  \n",
       "2006-01-01 02:00:00            2.8           8.3  \n",
       "2006-01-01 03:00:00            1.7           8.3  \n",
       "2006-01-01 04:00:00            6.1           7.2  \n",
       "\n",
       "[5 rows x 34 columns]"
      ],
      "text/html": [
       "<div>\n",
       "<style scoped>\n",
       "    .dataframe tbody tr th:only-of-type {\n",
       "        vertical-align: middle;\n",
       "    }\n",
       "\n",
       "    .dataframe tbody tr th {\n",
       "        vertical-align: top;\n",
       "    }\n",
       "\n",
       "    .dataframe thead th {\n",
       "        text-align: right;\n",
       "    }\n",
       "</style>\n",
       "<table border=\"1\" class=\"dataframe\">\n",
       "  <thead>\n",
       "    <tr style=\"text-align: right;\">\n",
       "      <th></th>\n",
       "      <th>arkansas_temp</th>\n",
       "      <th>colorado_temp</th>\n",
       "      <th>connecticut_temp</th>\n",
       "      <th>delaware_temp</th>\n",
       "      <th>florida_temp</th>\n",
       "      <th>georgia_temp</th>\n",
       "      <th>illinois_temp</th>\n",
       "      <th>indiana_temp</th>\n",
       "      <th>iowa_temp</th>\n",
       "      <th>kansas_temp</th>\n",
       "      <th>...</th>\n",
       "      <th>north_dakota_temp</th>\n",
       "      <th>ohio_temp</th>\n",
       "      <th>oklahoma_temp</th>\n",
       "      <th>rhode_island_temp</th>\n",
       "      <th>south_carolina_temp</th>\n",
       "      <th>south_dakota_temp</th>\n",
       "      <th>tennessee_temp</th>\n",
       "      <th>texas_temp</th>\n",
       "      <th>virginia_temp</th>\n",
       "      <th>wyoming_temp</th>\n",
       "    </tr>\n",
       "    <tr>\n",
       "      <th>time</th>\n",
       "      <th></th>\n",
       "      <th></th>\n",
       "      <th></th>\n",
       "      <th></th>\n",
       "      <th></th>\n",
       "      <th></th>\n",
       "      <th></th>\n",
       "      <th></th>\n",
       "      <th></th>\n",
       "      <th></th>\n",
       "      <th></th>\n",
       "      <th></th>\n",
       "      <th></th>\n",
       "      <th></th>\n",
       "      <th></th>\n",
       "      <th></th>\n",
       "      <th></th>\n",
       "      <th></th>\n",
       "      <th></th>\n",
       "      <th></th>\n",
       "      <th></th>\n",
       "    </tr>\n",
       "  </thead>\n",
       "  <tbody>\n",
       "    <tr>\n",
       "      <th>2006-01-01 00:00:00</th>\n",
       "      <td>NaN</td>\n",
       "      <td>NaN</td>\n",
       "      <td>NaN</td>\n",
       "      <td>NaN</td>\n",
       "      <td>19.4</td>\n",
       "      <td>NaN</td>\n",
       "      <td>1.1</td>\n",
       "      <td>1.7</td>\n",
       "      <td>1.1</td>\n",
       "      <td>NaN</td>\n",
       "      <td>...</td>\n",
       "      <td>-2.8</td>\n",
       "      <td>NaN</td>\n",
       "      <td>NaN</td>\n",
       "      <td>-0.6</td>\n",
       "      <td>NaN</td>\n",
       "      <td>NaN</td>\n",
       "      <td>NaN</td>\n",
       "      <td>9.4</td>\n",
       "      <td>NaN</td>\n",
       "      <td>NaN</td>\n",
       "    </tr>\n",
       "    <tr>\n",
       "      <th>2006-01-01 01:00:00</th>\n",
       "      <td>NaN</td>\n",
       "      <td>-1.0</td>\n",
       "      <td>-2.8</td>\n",
       "      <td>6.1</td>\n",
       "      <td>19.4</td>\n",
       "      <td>6.7</td>\n",
       "      <td>-0.6</td>\n",
       "      <td>1.7</td>\n",
       "      <td>1.1</td>\n",
       "      <td>6.1</td>\n",
       "      <td>...</td>\n",
       "      <td>-2.8</td>\n",
       "      <td>1.7</td>\n",
       "      <td>11.7</td>\n",
       "      <td>-0.6</td>\n",
       "      <td>14.4</td>\n",
       "      <td>-1.1</td>\n",
       "      <td>8.9</td>\n",
       "      <td>10.0</td>\n",
       "      <td>7.2</td>\n",
       "      <td>11.7</td>\n",
       "    </tr>\n",
       "    <tr>\n",
       "      <th>2006-01-01 02:00:00</th>\n",
       "      <td>NaN</td>\n",
       "      <td>-3.0</td>\n",
       "      <td>-2.2</td>\n",
       "      <td>5.6</td>\n",
       "      <td>17.8</td>\n",
       "      <td>3.9</td>\n",
       "      <td>-0.6</td>\n",
       "      <td>1.7</td>\n",
       "      <td>0.6</td>\n",
       "      <td>6.1</td>\n",
       "      <td>...</td>\n",
       "      <td>-2.8</td>\n",
       "      <td>1.7</td>\n",
       "      <td>13.3</td>\n",
       "      <td>0.0</td>\n",
       "      <td>12.8</td>\n",
       "      <td>-1.1</td>\n",
       "      <td>8.3</td>\n",
       "      <td>8.3</td>\n",
       "      <td>2.8</td>\n",
       "      <td>8.3</td>\n",
       "    </tr>\n",
       "    <tr>\n",
       "      <th>2006-01-01 03:00:00</th>\n",
       "      <td>NaN</td>\n",
       "      <td>-4.0</td>\n",
       "      <td>-2.2</td>\n",
       "      <td>5.0</td>\n",
       "      <td>16.1</td>\n",
       "      <td>3.3</td>\n",
       "      <td>0.6</td>\n",
       "      <td>1.7</td>\n",
       "      <td>0.0</td>\n",
       "      <td>6.1</td>\n",
       "      <td>...</td>\n",
       "      <td>-3.3</td>\n",
       "      <td>1.7</td>\n",
       "      <td>13.3</td>\n",
       "      <td>0.0</td>\n",
       "      <td>11.1</td>\n",
       "      <td>-1.7</td>\n",
       "      <td>3.3</td>\n",
       "      <td>8.3</td>\n",
       "      <td>1.7</td>\n",
       "      <td>8.3</td>\n",
       "    </tr>\n",
       "    <tr>\n",
       "      <th>2006-01-01 04:00:00</th>\n",
       "      <td>NaN</td>\n",
       "      <td>-4.0</td>\n",
       "      <td>-1.7</td>\n",
       "      <td>3.9</td>\n",
       "      <td>15.0</td>\n",
       "      <td>2.8</td>\n",
       "      <td>0.0</td>\n",
       "      <td>0.6</td>\n",
       "      <td>0.0</td>\n",
       "      <td>4.4</td>\n",
       "      <td>...</td>\n",
       "      <td>-3.3</td>\n",
       "      <td>1.7</td>\n",
       "      <td>13.9</td>\n",
       "      <td>0.0</td>\n",
       "      <td>8.9</td>\n",
       "      <td>-2.2</td>\n",
       "      <td>5.6</td>\n",
       "      <td>7.2</td>\n",
       "      <td>6.1</td>\n",
       "      <td>7.2</td>\n",
       "    </tr>\n",
       "  </tbody>\n",
       "</table>\n",
       "<p>5 rows × 34 columns</p>\n",
       "</div>"
      ]
     },
     "execution_count": 3,
     "metadata": {},
     "output_type": "execute_result"
    }
   ],
   "execution_count": 3
  },
  {
   "cell_type": "code",
   "source": "def fill_nan(df):\n    df = df.copy()\n\n    for col in df.columns:\n        nan_indices = df[df[col].isna()].index\n\n        for idx in tqdm(nan_indices):\n            values = []\n\n            for i in range(1, 8):  \n                prev = idx - pd.Timedelta(days=i)\n                next = idx + pd.Timedelta(days=i)\n\n                if prev in df.index and not pd.isna(df.at[prev, col]):\n                    values.append(df.at[prev, col])\n                if next in df.index and not pd.isna(df.at[next, col]):\n                    values.append(df.at[next, col])\n\n            if values:\n                df.at[idx, col] = np.mean(values)\n    \n    return df",
   "metadata": {
    "trusted": true,
    "execution": {
     "iopub.status.busy": "2025-05-19T04:15:45.418675Z",
     "iopub.execute_input": "2025-05-19T04:15:45.419011Z",
     "iopub.status.idle": "2025-05-19T04:15:45.426787Z",
     "shell.execute_reply.started": "2025-05-19T04:15:45.418947Z",
     "shell.execute_reply": "2025-05-19T04:15:45.425875Z"
    }
   },
   "outputs": [],
   "execution_count": 3
  },
  {
   "cell_type": "code",
   "source": "df = fill_nan(df)\ndf.head()",
   "metadata": {
    "trusted": true,
    "execution": {
     "iopub.status.busy": "2025-05-19T04:15:45.428087Z",
     "iopub.execute_input": "2025-05-19T04:15:45.428955Z",
     "iopub.status.idle": "2025-05-19T04:16:18.055093Z",
     "shell.execute_reply.started": "2025-05-19T04:15:45.428917Z",
     "shell.execute_reply": "2025-05-19T04:16:18.053926Z"
    }
   },
   "outputs": [
    {
     "output_type": "display_data",
     "data": {
      "text/plain": "  0%|          | 0/3665 [00:00<?, ?it/s]",
      "application/vnd.jupyter.widget-view+json": {
       "version_major": 2,
       "version_minor": 0,
       "model_id": "1f0eff1770cc4bdeaab5b380f9f76933"
      }
     },
     "metadata": {}
    },
    {
     "output_type": "display_data",
     "data": {
      "text/plain": "  0%|          | 0/25288 [00:00<?, ?it/s]",
      "application/vnd.jupyter.widget-view+json": {
       "version_major": 2,
       "version_minor": 0,
       "model_id": "362670e0c7d749388d2f74f9559f0b38"
      }
     },
     "metadata": {}
    },
    {
     "output_type": "display_data",
     "data": {
      "text/plain": "  0%|          | 0/378 [00:00<?, ?it/s]",
      "application/vnd.jupyter.widget-view+json": {
       "version_major": 2,
       "version_minor": 0,
       "model_id": "60c8f23ca13a4e0ebb766c344cbc5b9c"
      }
     },
     "metadata": {}
    },
    {
     "output_type": "display_data",
     "data": {
      "text/plain": "  0%|          | 0/1118 [00:00<?, ?it/s]",
      "application/vnd.jupyter.widget-view+json": {
       "version_major": 2,
       "version_minor": 0,
       "model_id": "bda20cb4a8f3434fa4ee5adb112810ef"
      }
     },
     "metadata": {}
    },
    {
     "output_type": "display_data",
     "data": {
      "text/plain": "  0%|          | 0/111 [00:00<?, ?it/s]",
      "application/vnd.jupyter.widget-view+json": {
       "version_major": 2,
       "version_minor": 0,
       "model_id": "b1f15117132243e998f72467f7971bb3"
      }
     },
     "metadata": {}
    },
    {
     "output_type": "display_data",
     "data": {
      "text/plain": "  0%|          | 0/433 [00:00<?, ?it/s]",
      "application/vnd.jupyter.widget-view+json": {
       "version_major": 2,
       "version_minor": 0,
       "model_id": "e715deefddec4c489c4d2414dfde2755"
      }
     },
     "metadata": {}
    },
    {
     "output_type": "display_data",
     "data": {
      "text/plain": "  0%|          | 0/96 [00:00<?, ?it/s]",
      "application/vnd.jupyter.widget-view+json": {
       "version_major": 2,
       "version_minor": 0,
       "model_id": "46e9395749a541caad1b913bc60a5aaa"
      }
     },
     "metadata": {}
    },
    {
     "output_type": "display_data",
     "data": {
      "text/plain": "  0%|          | 0/10 [00:00<?, ?it/s]",
      "application/vnd.jupyter.widget-view+json": {
       "version_major": 2,
       "version_minor": 0,
       "model_id": "fde1b749decd4b63badec2408fe8fd97"
      }
     },
     "metadata": {}
    },
    {
     "output_type": "display_data",
     "data": {
      "text/plain": "  0%|          | 0/10 [00:00<?, ?it/s]",
      "application/vnd.jupyter.widget-view+json": {
       "version_major": 2,
       "version_minor": 0,
       "model_id": "959a6abde32049a6b208359addeb229e"
      }
     },
     "metadata": {}
    },
    {
     "output_type": "display_data",
     "data": {
      "text/plain": "  0%|          | 0/319 [00:00<?, ?it/s]",
      "application/vnd.jupyter.widget-view+json": {
       "version_major": 2,
       "version_minor": 0,
       "model_id": "deebc377e6ed48dcb1785c22e73aa7e8"
      }
     },
     "metadata": {}
    },
    {
     "output_type": "display_data",
     "data": {
      "text/plain": "  0%|          | 0/327 [00:00<?, ?it/s]",
      "application/vnd.jupyter.widget-view+json": {
       "version_major": 2,
       "version_minor": 0,
       "model_id": "c594dd2545034440a1a201c1105e3ad6"
      }
     },
     "metadata": {}
    },
    {
     "output_type": "display_data",
     "data": {
      "text/plain": "  0%|          | 0/1446 [00:00<?, ?it/s]",
      "application/vnd.jupyter.widget-view+json": {
       "version_major": 2,
       "version_minor": 0,
       "model_id": "f94762a0bade41a5871eaf3aa3c8bebc"
      }
     },
     "metadata": {}
    },
    {
     "output_type": "display_data",
     "data": {
      "text/plain": "  0%|          | 0/179 [00:00<?, ?it/s]",
      "application/vnd.jupyter.widget-view+json": {
       "version_major": 2,
       "version_minor": 0,
       "model_id": "3fbd83be95eb4af28c028afee70995bd"
      }
     },
     "metadata": {}
    },
    {
     "output_type": "display_data",
     "data": {
      "text/plain": "  0%|          | 0/5358 [00:00<?, ?it/s]",
      "application/vnd.jupyter.widget-view+json": {
       "version_major": 2,
       "version_minor": 0,
       "model_id": "039208533d4b461dbb7c04ca5ab5985a"
      }
     },
     "metadata": {}
    },
    {
     "output_type": "display_data",
     "data": {
      "text/plain": "  0%|          | 0/11 [00:00<?, ?it/s]",
      "application/vnd.jupyter.widget-view+json": {
       "version_major": 2,
       "version_minor": 0,
       "model_id": "b1447305e4d744fc83755973f81fa916"
      }
     },
     "metadata": {}
    },
    {
     "output_type": "display_data",
     "data": {
      "text/plain": "  0%|          | 0/164 [00:00<?, ?it/s]",
      "application/vnd.jupyter.widget-view+json": {
       "version_major": 2,
       "version_minor": 0,
       "model_id": "1f8f6fa6ec7946f28fad8357082b1c36"
      }
     },
     "metadata": {}
    },
    {
     "output_type": "display_data",
     "data": {
      "text/plain": "  0%|          | 0/1669 [00:00<?, ?it/s]",
      "application/vnd.jupyter.widget-view+json": {
       "version_major": 2,
       "version_minor": 0,
       "model_id": "247ddebf028c40f3b744f541fd515e1b"
      }
     },
     "metadata": {}
    },
    {
     "output_type": "display_data",
     "data": {
      "text/plain": "  0%|          | 0/6596 [00:00<?, ?it/s]",
      "application/vnd.jupyter.widget-view+json": {
       "version_major": 2,
       "version_minor": 0,
       "model_id": "54f356cae9944768832f1b5a15a12727"
      }
     },
     "metadata": {}
    },
    {
     "output_type": "display_data",
     "data": {
      "text/plain": "  0%|          | 0/647 [00:00<?, ?it/s]",
      "application/vnd.jupyter.widget-view+json": {
       "version_major": 2,
       "version_minor": 0,
       "model_id": "be9c510b9e7745df97be0a7dc27411ac"
      }
     },
     "metadata": {}
    },
    {
     "output_type": "display_data",
     "data": {
      "text/plain": "  0%|          | 0/780 [00:00<?, ?it/s]",
      "application/vnd.jupyter.widget-view+json": {
       "version_major": 2,
       "version_minor": 0,
       "model_id": "f85aee62c5ee47a885b95586fe21aa69"
      }
     },
     "metadata": {}
    },
    {
     "output_type": "display_data",
     "data": {
      "text/plain": "  0%|          | 0/246 [00:00<?, ?it/s]",
      "application/vnd.jupyter.widget-view+json": {
       "version_major": 2,
       "version_minor": 0,
       "model_id": "b91bce7afec743fb860344f6086a1486"
      }
     },
     "metadata": {}
    },
    {
     "output_type": "display_data",
     "data": {
      "text/plain": "  0%|          | 0/738 [00:00<?, ?it/s]",
      "application/vnd.jupyter.widget-view+json": {
       "version_major": 2,
       "version_minor": 0,
       "model_id": "61e119395b774ba7806c137463098276"
      }
     },
     "metadata": {}
    },
    {
     "output_type": "display_data",
     "data": {
      "text/plain": "  0%|          | 0/14 [00:00<?, ?it/s]",
      "application/vnd.jupyter.widget-view+json": {
       "version_major": 2,
       "version_minor": 0,
       "model_id": "8782d42a7ccc4b69a5693265df8e4552"
      }
     },
     "metadata": {}
    },
    {
     "output_type": "display_data",
     "data": {
      "text/plain": "  0%|          | 0/28 [00:00<?, ?it/s]",
      "application/vnd.jupyter.widget-view+json": {
       "version_major": 2,
       "version_minor": 0,
       "model_id": "8569f113324f4cd6acbfaf4147bba9b0"
      }
     },
     "metadata": {}
    },
    {
     "output_type": "display_data",
     "data": {
      "text/plain": "  0%|          | 0/82 [00:00<?, ?it/s]",
      "application/vnd.jupyter.widget-view+json": {
       "version_major": 2,
       "version_minor": 0,
       "model_id": "598ba0dbb06146bf8c4110116a35cc3c"
      }
     },
     "metadata": {}
    },
    {
     "output_type": "display_data",
     "data": {
      "text/plain": "  0%|          | 0/199 [00:00<?, ?it/s]",
      "application/vnd.jupyter.widget-view+json": {
       "version_major": 2,
       "version_minor": 0,
       "model_id": "9310793a443e4ef2a7c0824dbc737632"
      }
     },
     "metadata": {}
    },
    {
     "output_type": "display_data",
     "data": {
      "text/plain": "  0%|          | 0/957 [00:00<?, ?it/s]",
      "application/vnd.jupyter.widget-view+json": {
       "version_major": 2,
       "version_minor": 0,
       "model_id": "ff63c3ec57aa499dad742ed1a14013fa"
      }
     },
     "metadata": {}
    },
    {
     "output_type": "display_data",
     "data": {
      "text/plain": "  0%|          | 0/51 [00:00<?, ?it/s]",
      "application/vnd.jupyter.widget-view+json": {
       "version_major": 2,
       "version_minor": 0,
       "model_id": "e04b11bf73934799a5d840401a3f56f2"
      }
     },
     "metadata": {}
    },
    {
     "output_type": "display_data",
     "data": {
      "text/plain": "  0%|          | 0/639 [00:00<?, ?it/s]",
      "application/vnd.jupyter.widget-view+json": {
       "version_major": 2,
       "version_minor": 0,
       "model_id": "ea4a7925cb6543a6867e80a1c7c092d3"
      }
     },
     "metadata": {}
    },
    {
     "output_type": "display_data",
     "data": {
      "text/plain": "  0%|          | 0/750 [00:00<?, ?it/s]",
      "application/vnd.jupyter.widget-view+json": {
       "version_major": 2,
       "version_minor": 0,
       "model_id": "eda49327ca024c6fafef7cf38eb21538"
      }
     },
     "metadata": {}
    },
    {
     "output_type": "display_data",
     "data": {
      "text/plain": "  0%|          | 0/2462 [00:00<?, ?it/s]",
      "application/vnd.jupyter.widget-view+json": {
       "version_major": 2,
       "version_minor": 0,
       "model_id": "3ad1cbe109b14bac9a74a734c4311e4d"
      }
     },
     "metadata": {}
    },
    {
     "output_type": "display_data",
     "data": {
      "text/plain": "  0%|          | 0/72 [00:00<?, ?it/s]",
      "application/vnd.jupyter.widget-view+json": {
       "version_major": 2,
       "version_minor": 0,
       "model_id": "ab7bc6ca86b447eda1562b758b1c5699"
      }
     },
     "metadata": {}
    },
    {
     "output_type": "display_data",
     "data": {
      "text/plain": "  0%|          | 0/184 [00:00<?, ?it/s]",
      "application/vnd.jupyter.widget-view+json": {
       "version_major": 2,
       "version_minor": 0,
       "model_id": "4fbf8c6d20794d2481bc3aeb54adc543"
      }
     },
     "metadata": {}
    },
    {
     "output_type": "display_data",
     "data": {
      "text/plain": "  0%|          | 0/9538 [00:00<?, ?it/s]",
      "application/vnd.jupyter.widget-view+json": {
       "version_major": 2,
       "version_minor": 0,
       "model_id": "424ba24ac81f4aae92bc5478c1cb2632"
      }
     },
     "metadata": {}
    },
    {
     "execution_count": 4,
     "output_type": "execute_result",
     "data": {
      "text/plain": "                     arkansas_temp  colorado_temp  connecticut_temp  \\\ntime                                                                  \n2006-01-01 00:00:00           11.6      -7.285714     -3.172066e-17   \n2006-01-01 01:00:00           10.4      -1.000000     -2.800000e+00   \n2006-01-01 02:00:00            9.4      -3.000000     -2.200000e+00   \n2006-01-01 03:00:00            8.0      -4.000000     -2.200000e+00   \n2006-01-01 04:00:00            6.8      -4.000000     -1.700000e+00   \n\n                     delaware_temp  florida_temp  georgia_temp  illinois_temp  \\\ntime                                                                            \n2006-01-01 00:00:00       4.585714          19.4      9.928571            1.1   \n2006-01-01 01:00:00       6.100000          19.4      6.700000           -0.6   \n2006-01-01 02:00:00       5.600000          17.8      3.900000           -0.6   \n2006-01-01 03:00:00       5.000000          16.1      3.300000            0.6   \n2006-01-01 04:00:00       3.900000          15.0      2.800000            0.0   \n\n                     indiana_temp  iowa_temp  kansas_temp  ...  \\\ntime                                                       ...   \n2006-01-01 00:00:00           1.7        1.1     9.614286  ...   \n2006-01-01 01:00:00           1.7        1.1     6.100000  ...   \n2006-01-01 02:00:00           1.7        0.6     6.100000  ...   \n2006-01-01 03:00:00           1.7        0.0     6.100000  ...   \n2006-01-01 04:00:00           0.6        0.0     4.400000  ...   \n\n                     north_dakota_temp  ohio_temp  oklahoma_temp  \\\ntime                                                               \n2006-01-01 00:00:00               -2.8   4.528571      13.514286   \n2006-01-01 01:00:00               -2.8   1.700000      11.700000   \n2006-01-01 02:00:00               -2.8   1.700000      13.300000   \n2006-01-01 03:00:00               -3.3   1.700000      13.300000   \n2006-01-01 04:00:00               -3.3   1.700000      13.900000   \n\n                     rhode_island_temp  south_carolina_temp  \\\ntime                                                          \n2006-01-01 00:00:00               -0.6            12.128571   \n2006-01-01 01:00:00               -0.6            14.400000   \n2006-01-01 02:00:00                0.0            12.800000   \n2006-01-01 03:00:00                0.0            11.100000   \n2006-01-01 04:00:00                0.0             8.900000   \n\n                     south_dakota_temp  tennessee_temp  texas_temp  \\\ntime                                                                 \n2006-01-01 00:00:00           1.342857        9.285714         9.4   \n2006-01-01 01:00:00          -1.100000        8.900000        10.0   \n2006-01-01 02:00:00          -1.100000        8.300000         8.3   \n2006-01-01 03:00:00          -1.700000        3.300000         8.3   \n2006-01-01 04:00:00          -2.200000        5.600000         7.2   \n\n                     virginia_temp  wyoming_temp  \ntime                                              \n2006-01-01 00:00:00       3.642857           7.6  \n2006-01-01 01:00:00       7.200000          11.7  \n2006-01-01 02:00:00       2.800000           8.3  \n2006-01-01 03:00:00       1.700000           8.3  \n2006-01-01 04:00:00       6.100000           7.2  \n\n[5 rows x 34 columns]",
      "text/html": "<div>\n<style scoped>\n    .dataframe tbody tr th:only-of-type {\n        vertical-align: middle;\n    }\n\n    .dataframe tbody tr th {\n        vertical-align: top;\n    }\n\n    .dataframe thead th {\n        text-align: right;\n    }\n</style>\n<table border=\"1\" class=\"dataframe\">\n  <thead>\n    <tr style=\"text-align: right;\">\n      <th></th>\n      <th>arkansas_temp</th>\n      <th>colorado_temp</th>\n      <th>connecticut_temp</th>\n      <th>delaware_temp</th>\n      <th>florida_temp</th>\n      <th>georgia_temp</th>\n      <th>illinois_temp</th>\n      <th>indiana_temp</th>\n      <th>iowa_temp</th>\n      <th>kansas_temp</th>\n      <th>...</th>\n      <th>north_dakota_temp</th>\n      <th>ohio_temp</th>\n      <th>oklahoma_temp</th>\n      <th>rhode_island_temp</th>\n      <th>south_carolina_temp</th>\n      <th>south_dakota_temp</th>\n      <th>tennessee_temp</th>\n      <th>texas_temp</th>\n      <th>virginia_temp</th>\n      <th>wyoming_temp</th>\n    </tr>\n    <tr>\n      <th>time</th>\n      <th></th>\n      <th></th>\n      <th></th>\n      <th></th>\n      <th></th>\n      <th></th>\n      <th></th>\n      <th></th>\n      <th></th>\n      <th></th>\n      <th></th>\n      <th></th>\n      <th></th>\n      <th></th>\n      <th></th>\n      <th></th>\n      <th></th>\n      <th></th>\n      <th></th>\n      <th></th>\n      <th></th>\n    </tr>\n  </thead>\n  <tbody>\n    <tr>\n      <th>2006-01-01 00:00:00</th>\n      <td>11.6</td>\n      <td>-7.285714</td>\n      <td>-3.172066e-17</td>\n      <td>4.585714</td>\n      <td>19.4</td>\n      <td>9.928571</td>\n      <td>1.1</td>\n      <td>1.7</td>\n      <td>1.1</td>\n      <td>9.614286</td>\n      <td>...</td>\n      <td>-2.8</td>\n      <td>4.528571</td>\n      <td>13.514286</td>\n      <td>-0.6</td>\n      <td>12.128571</td>\n      <td>1.342857</td>\n      <td>9.285714</td>\n      <td>9.4</td>\n      <td>3.642857</td>\n      <td>7.6</td>\n    </tr>\n    <tr>\n      <th>2006-01-01 01:00:00</th>\n      <td>10.4</td>\n      <td>-1.000000</td>\n      <td>-2.800000e+00</td>\n      <td>6.100000</td>\n      <td>19.4</td>\n      <td>6.700000</td>\n      <td>-0.6</td>\n      <td>1.7</td>\n      <td>1.1</td>\n      <td>6.100000</td>\n      <td>...</td>\n      <td>-2.8</td>\n      <td>1.700000</td>\n      <td>11.700000</td>\n      <td>-0.6</td>\n      <td>14.400000</td>\n      <td>-1.100000</td>\n      <td>8.900000</td>\n      <td>10.0</td>\n      <td>7.200000</td>\n      <td>11.7</td>\n    </tr>\n    <tr>\n      <th>2006-01-01 02:00:00</th>\n      <td>9.4</td>\n      <td>-3.000000</td>\n      <td>-2.200000e+00</td>\n      <td>5.600000</td>\n      <td>17.8</td>\n      <td>3.900000</td>\n      <td>-0.6</td>\n      <td>1.7</td>\n      <td>0.6</td>\n      <td>6.100000</td>\n      <td>...</td>\n      <td>-2.8</td>\n      <td>1.700000</td>\n      <td>13.300000</td>\n      <td>0.0</td>\n      <td>12.800000</td>\n      <td>-1.100000</td>\n      <td>8.300000</td>\n      <td>8.3</td>\n      <td>2.800000</td>\n      <td>8.3</td>\n    </tr>\n    <tr>\n      <th>2006-01-01 03:00:00</th>\n      <td>8.0</td>\n      <td>-4.000000</td>\n      <td>-2.200000e+00</td>\n      <td>5.000000</td>\n      <td>16.1</td>\n      <td>3.300000</td>\n      <td>0.6</td>\n      <td>1.7</td>\n      <td>0.0</td>\n      <td>6.100000</td>\n      <td>...</td>\n      <td>-3.3</td>\n      <td>1.700000</td>\n      <td>13.300000</td>\n      <td>0.0</td>\n      <td>11.100000</td>\n      <td>-1.700000</td>\n      <td>3.300000</td>\n      <td>8.3</td>\n      <td>1.700000</td>\n      <td>8.3</td>\n    </tr>\n    <tr>\n      <th>2006-01-01 04:00:00</th>\n      <td>6.8</td>\n      <td>-4.000000</td>\n      <td>-1.700000e+00</td>\n      <td>3.900000</td>\n      <td>15.0</td>\n      <td>2.800000</td>\n      <td>0.0</td>\n      <td>0.6</td>\n      <td>0.0</td>\n      <td>4.400000</td>\n      <td>...</td>\n      <td>-3.3</td>\n      <td>1.700000</td>\n      <td>13.900000</td>\n      <td>0.0</td>\n      <td>8.900000</td>\n      <td>-2.200000</td>\n      <td>5.600000</td>\n      <td>7.2</td>\n      <td>6.100000</td>\n      <td>7.2</td>\n    </tr>\n  </tbody>\n</table>\n<p>5 rows × 34 columns</p>\n</div>"
     },
     "metadata": {}
    }
   ],
   "execution_count": 4
  },
  {
   "cell_type": "code",
   "source": "df.isna().sum().sum()",
   "metadata": {
    "trusted": true,
    "execution": {
     "iopub.status.busy": "2025-05-19T04:16:29.256028Z",
     "iopub.execute_input": "2025-05-19T04:16:29.256319Z",
     "iopub.status.idle": "2025-05-19T04:16:29.294058Z",
     "shell.execute_reply.started": "2025-05-19T04:16:29.256298Z",
     "shell.execute_reply": "2025-05-19T04:16:29.293156Z"
    }
   },
   "outputs": [
    {
     "execution_count": 6,
     "output_type": "execute_result",
     "data": {
      "text/plain": "0"
     },
     "metadata": {}
    }
   ],
   "execution_count": 6
  },
  {
   "cell_type": "code",
   "source": "df = df.round(1)\ndf.head()",
   "metadata": {
    "trusted": true,
    "execution": {
     "iopub.status.busy": "2025-05-19T04:16:30.124139Z",
     "iopub.execute_input": "2025-05-19T04:16:30.124460Z",
     "iopub.status.idle": "2025-05-19T04:16:30.180787Z",
     "shell.execute_reply.started": "2025-05-19T04:16:30.124439Z",
     "shell.execute_reply": "2025-05-19T04:16:30.179857Z"
    }
   },
   "outputs": [
    {
     "execution_count": 7,
     "output_type": "execute_result",
     "data": {
      "text/plain": "                     arkansas_temp  colorado_temp  connecticut_temp  \\\ntime                                                                  \n2006-01-01 00:00:00           11.6           -7.3              -0.0   \n2006-01-01 01:00:00           10.4           -1.0              -2.8   \n2006-01-01 02:00:00            9.4           -3.0              -2.2   \n2006-01-01 03:00:00            8.0           -4.0              -2.2   \n2006-01-01 04:00:00            6.8           -4.0              -1.7   \n\n                     delaware_temp  florida_temp  georgia_temp  illinois_temp  \\\ntime                                                                            \n2006-01-01 00:00:00            4.6          19.4           9.9            1.1   \n2006-01-01 01:00:00            6.1          19.4           6.7           -0.6   \n2006-01-01 02:00:00            5.6          17.8           3.9           -0.6   \n2006-01-01 03:00:00            5.0          16.1           3.3            0.6   \n2006-01-01 04:00:00            3.9          15.0           2.8            0.0   \n\n                     indiana_temp  iowa_temp  kansas_temp  ...  \\\ntime                                                       ...   \n2006-01-01 00:00:00           1.7        1.1          9.6  ...   \n2006-01-01 01:00:00           1.7        1.1          6.1  ...   \n2006-01-01 02:00:00           1.7        0.6          6.1  ...   \n2006-01-01 03:00:00           1.7        0.0          6.1  ...   \n2006-01-01 04:00:00           0.6        0.0          4.4  ...   \n\n                     north_dakota_temp  ohio_temp  oklahoma_temp  \\\ntime                                                               \n2006-01-01 00:00:00               -2.8        4.5           13.5   \n2006-01-01 01:00:00               -2.8        1.7           11.7   \n2006-01-01 02:00:00               -2.8        1.7           13.3   \n2006-01-01 03:00:00               -3.3        1.7           13.3   \n2006-01-01 04:00:00               -3.3        1.7           13.9   \n\n                     rhode_island_temp  south_carolina_temp  \\\ntime                                                          \n2006-01-01 00:00:00               -0.6                 12.1   \n2006-01-01 01:00:00               -0.6                 14.4   \n2006-01-01 02:00:00                0.0                 12.8   \n2006-01-01 03:00:00                0.0                 11.1   \n2006-01-01 04:00:00                0.0                  8.9   \n\n                     south_dakota_temp  tennessee_temp  texas_temp  \\\ntime                                                                 \n2006-01-01 00:00:00                1.3             9.3         9.4   \n2006-01-01 01:00:00               -1.1             8.9        10.0   \n2006-01-01 02:00:00               -1.1             8.3         8.3   \n2006-01-01 03:00:00               -1.7             3.3         8.3   \n2006-01-01 04:00:00               -2.2             5.6         7.2   \n\n                     virginia_temp  wyoming_temp  \ntime                                              \n2006-01-01 00:00:00            3.6           7.6  \n2006-01-01 01:00:00            7.2          11.7  \n2006-01-01 02:00:00            2.8           8.3  \n2006-01-01 03:00:00            1.7           8.3  \n2006-01-01 04:00:00            6.1           7.2  \n\n[5 rows x 34 columns]",
      "text/html": "<div>\n<style scoped>\n    .dataframe tbody tr th:only-of-type {\n        vertical-align: middle;\n    }\n\n    .dataframe tbody tr th {\n        vertical-align: top;\n    }\n\n    .dataframe thead th {\n        text-align: right;\n    }\n</style>\n<table border=\"1\" class=\"dataframe\">\n  <thead>\n    <tr style=\"text-align: right;\">\n      <th></th>\n      <th>arkansas_temp</th>\n      <th>colorado_temp</th>\n      <th>connecticut_temp</th>\n      <th>delaware_temp</th>\n      <th>florida_temp</th>\n      <th>georgia_temp</th>\n      <th>illinois_temp</th>\n      <th>indiana_temp</th>\n      <th>iowa_temp</th>\n      <th>kansas_temp</th>\n      <th>...</th>\n      <th>north_dakota_temp</th>\n      <th>ohio_temp</th>\n      <th>oklahoma_temp</th>\n      <th>rhode_island_temp</th>\n      <th>south_carolina_temp</th>\n      <th>south_dakota_temp</th>\n      <th>tennessee_temp</th>\n      <th>texas_temp</th>\n      <th>virginia_temp</th>\n      <th>wyoming_temp</th>\n    </tr>\n    <tr>\n      <th>time</th>\n      <th></th>\n      <th></th>\n      <th></th>\n      <th></th>\n      <th></th>\n      <th></th>\n      <th></th>\n      <th></th>\n      <th></th>\n      <th></th>\n      <th></th>\n      <th></th>\n      <th></th>\n      <th></th>\n      <th></th>\n      <th></th>\n      <th></th>\n      <th></th>\n      <th></th>\n      <th></th>\n      <th></th>\n    </tr>\n  </thead>\n  <tbody>\n    <tr>\n      <th>2006-01-01 00:00:00</th>\n      <td>11.6</td>\n      <td>-7.3</td>\n      <td>-0.0</td>\n      <td>4.6</td>\n      <td>19.4</td>\n      <td>9.9</td>\n      <td>1.1</td>\n      <td>1.7</td>\n      <td>1.1</td>\n      <td>9.6</td>\n      <td>...</td>\n      <td>-2.8</td>\n      <td>4.5</td>\n      <td>13.5</td>\n      <td>-0.6</td>\n      <td>12.1</td>\n      <td>1.3</td>\n      <td>9.3</td>\n      <td>9.4</td>\n      <td>3.6</td>\n      <td>7.6</td>\n    </tr>\n    <tr>\n      <th>2006-01-01 01:00:00</th>\n      <td>10.4</td>\n      <td>-1.0</td>\n      <td>-2.8</td>\n      <td>6.1</td>\n      <td>19.4</td>\n      <td>6.7</td>\n      <td>-0.6</td>\n      <td>1.7</td>\n      <td>1.1</td>\n      <td>6.1</td>\n      <td>...</td>\n      <td>-2.8</td>\n      <td>1.7</td>\n      <td>11.7</td>\n      <td>-0.6</td>\n      <td>14.4</td>\n      <td>-1.1</td>\n      <td>8.9</td>\n      <td>10.0</td>\n      <td>7.2</td>\n      <td>11.7</td>\n    </tr>\n    <tr>\n      <th>2006-01-01 02:00:00</th>\n      <td>9.4</td>\n      <td>-3.0</td>\n      <td>-2.2</td>\n      <td>5.6</td>\n      <td>17.8</td>\n      <td>3.9</td>\n      <td>-0.6</td>\n      <td>1.7</td>\n      <td>0.6</td>\n      <td>6.1</td>\n      <td>...</td>\n      <td>-2.8</td>\n      <td>1.7</td>\n      <td>13.3</td>\n      <td>0.0</td>\n      <td>12.8</td>\n      <td>-1.1</td>\n      <td>8.3</td>\n      <td>8.3</td>\n      <td>2.8</td>\n      <td>8.3</td>\n    </tr>\n    <tr>\n      <th>2006-01-01 03:00:00</th>\n      <td>8.0</td>\n      <td>-4.0</td>\n      <td>-2.2</td>\n      <td>5.0</td>\n      <td>16.1</td>\n      <td>3.3</td>\n      <td>0.6</td>\n      <td>1.7</td>\n      <td>0.0</td>\n      <td>6.1</td>\n      <td>...</td>\n      <td>-3.3</td>\n      <td>1.7</td>\n      <td>13.3</td>\n      <td>0.0</td>\n      <td>11.1</td>\n      <td>-1.7</td>\n      <td>3.3</td>\n      <td>8.3</td>\n      <td>1.7</td>\n      <td>8.3</td>\n    </tr>\n    <tr>\n      <th>2006-01-01 04:00:00</th>\n      <td>6.8</td>\n      <td>-4.0</td>\n      <td>-1.7</td>\n      <td>3.9</td>\n      <td>15.0</td>\n      <td>2.8</td>\n      <td>0.0</td>\n      <td>0.6</td>\n      <td>0.0</td>\n      <td>4.4</td>\n      <td>...</td>\n      <td>-3.3</td>\n      <td>1.7</td>\n      <td>13.9</td>\n      <td>0.0</td>\n      <td>8.9</td>\n      <td>-2.2</td>\n      <td>5.6</td>\n      <td>7.2</td>\n      <td>6.1</td>\n      <td>7.2</td>\n    </tr>\n  </tbody>\n</table>\n<p>5 rows × 34 columns</p>\n</div>"
     },
     "metadata": {}
    }
   ],
   "execution_count": 7
  },
  {
   "cell_type": "code",
   "source": "df_minutely = df.resample('1T').interpolate(method='linear')\ndf_minutely = df_minutely.round(1)\ndf_minutely.head()",
   "metadata": {
    "trusted": true,
    "execution": {
     "iopub.status.busy": "2025-05-19T04:25:23.522075Z",
     "iopub.execute_input": "2025-05-19T04:25:23.522391Z",
     "iopub.status.idle": "2025-05-19T04:25:23.547490Z",
     "shell.execute_reply.started": "2025-05-19T04:25:23.522371Z",
     "shell.execute_reply": "2025-05-19T04:25:23.546736Z"
    }
   },
   "outputs": [
    {
     "execution_count": 11,
     "output_type": "execute_result",
     "data": {
      "text/plain": "                     arkansas_temp  colorado_temp  connecticut_temp  \\\ntime                                                                  \n2006-01-01 00:00:00           11.6           -7.3               0.0   \n2006-01-01 00:01:00           11.6           -7.2              -0.0   \n2006-01-01 00:02:00           11.6           -7.1              -0.1   \n2006-01-01 00:03:00           11.5           -7.0              -0.1   \n2006-01-01 00:04:00           11.5           -6.9              -0.2   \n\n                     delaware_temp  florida_temp  georgia_temp  illinois_temp  \\\ntime                                                                            \n2006-01-01 00:00:00            4.6          19.4           9.9            1.1   \n2006-01-01 00:01:00            4.6          19.4           9.8            1.1   \n2006-01-01 00:02:00            4.6          19.4           9.8            1.0   \n2006-01-01 00:03:00            4.7          19.4           9.7            1.0   \n2006-01-01 00:04:00            4.7          19.4           9.7            1.0   \n\n                     indiana_temp  iowa_temp  kansas_temp  ...  \\\ntime                                                       ...   \n2006-01-01 00:00:00           1.7        1.1          9.6  ...   \n2006-01-01 00:01:00           1.7        1.1          9.5  ...   \n2006-01-01 00:02:00           1.7        1.1          9.5  ...   \n2006-01-01 00:03:00           1.7        1.1          9.4  ...   \n2006-01-01 00:04:00           1.7        1.1          9.4  ...   \n\n                     north_dakota_temp  ohio_temp  oklahoma_temp  \\\ntime                                                               \n2006-01-01 00:00:00               -2.8        4.5           13.5   \n2006-01-01 00:01:00               -2.8        4.5           13.5   \n2006-01-01 00:02:00               -2.8        4.4           13.4   \n2006-01-01 00:03:00               -2.8        4.4           13.4   \n2006-01-01 00:04:00               -2.8        4.3           13.4   \n\n                     rhode_island_temp  south_carolina_temp  \\\ntime                                                          \n2006-01-01 00:00:00               -0.6                 12.1   \n2006-01-01 00:01:00               -0.6                 12.1   \n2006-01-01 00:02:00               -0.6                 12.2   \n2006-01-01 00:03:00               -0.6                 12.2   \n2006-01-01 00:04:00               -0.6                 12.3   \n\n                     south_dakota_temp  tennessee_temp  texas_temp  \\\ntime                                                                 \n2006-01-01 00:00:00                1.3             9.3         9.4   \n2006-01-01 00:01:00                1.3             9.3         9.4   \n2006-01-01 00:02:00                1.2             9.3         9.4   \n2006-01-01 00:03:00                1.2             9.3         9.4   \n2006-01-01 00:04:00                1.1             9.3         9.4   \n\n                     virginia_temp  wyoming_temp  \ntime                                              \n2006-01-01 00:00:00            3.6           7.6  \n2006-01-01 00:01:00            3.7           7.7  \n2006-01-01 00:02:00            3.7           7.7  \n2006-01-01 00:03:00            3.8           7.8  \n2006-01-01 00:04:00            3.8           7.9  \n\n[5 rows x 34 columns]",
      "text/html": "<div>\n<style scoped>\n    .dataframe tbody tr th:only-of-type {\n        vertical-align: middle;\n    }\n\n    .dataframe tbody tr th {\n        vertical-align: top;\n    }\n\n    .dataframe thead th {\n        text-align: right;\n    }\n</style>\n<table border=\"1\" class=\"dataframe\">\n  <thead>\n    <tr style=\"text-align: right;\">\n      <th></th>\n      <th>arkansas_temp</th>\n      <th>colorado_temp</th>\n      <th>connecticut_temp</th>\n      <th>delaware_temp</th>\n      <th>florida_temp</th>\n      <th>georgia_temp</th>\n      <th>illinois_temp</th>\n      <th>indiana_temp</th>\n      <th>iowa_temp</th>\n      <th>kansas_temp</th>\n      <th>...</th>\n      <th>north_dakota_temp</th>\n      <th>ohio_temp</th>\n      <th>oklahoma_temp</th>\n      <th>rhode_island_temp</th>\n      <th>south_carolina_temp</th>\n      <th>south_dakota_temp</th>\n      <th>tennessee_temp</th>\n      <th>texas_temp</th>\n      <th>virginia_temp</th>\n      <th>wyoming_temp</th>\n    </tr>\n    <tr>\n      <th>time</th>\n      <th></th>\n      <th></th>\n      <th></th>\n      <th></th>\n      <th></th>\n      <th></th>\n      <th></th>\n      <th></th>\n      <th></th>\n      <th></th>\n      <th></th>\n      <th></th>\n      <th></th>\n      <th></th>\n      <th></th>\n      <th></th>\n      <th></th>\n      <th></th>\n      <th></th>\n      <th></th>\n      <th></th>\n    </tr>\n  </thead>\n  <tbody>\n    <tr>\n      <th>2006-01-01 00:00:00</th>\n      <td>11.6</td>\n      <td>-7.3</td>\n      <td>0.0</td>\n      <td>4.6</td>\n      <td>19.4</td>\n      <td>9.9</td>\n      <td>1.1</td>\n      <td>1.7</td>\n      <td>1.1</td>\n      <td>9.6</td>\n      <td>...</td>\n      <td>-2.8</td>\n      <td>4.5</td>\n      <td>13.5</td>\n      <td>-0.6</td>\n      <td>12.1</td>\n      <td>1.3</td>\n      <td>9.3</td>\n      <td>9.4</td>\n      <td>3.6</td>\n      <td>7.6</td>\n    </tr>\n    <tr>\n      <th>2006-01-01 00:01:00</th>\n      <td>11.6</td>\n      <td>-7.2</td>\n      <td>-0.0</td>\n      <td>4.6</td>\n      <td>19.4</td>\n      <td>9.8</td>\n      <td>1.1</td>\n      <td>1.7</td>\n      <td>1.1</td>\n      <td>9.5</td>\n      <td>...</td>\n      <td>-2.8</td>\n      <td>4.5</td>\n      <td>13.5</td>\n      <td>-0.6</td>\n      <td>12.1</td>\n      <td>1.3</td>\n      <td>9.3</td>\n      <td>9.4</td>\n      <td>3.7</td>\n      <td>7.7</td>\n    </tr>\n    <tr>\n      <th>2006-01-01 00:02:00</th>\n      <td>11.6</td>\n      <td>-7.1</td>\n      <td>-0.1</td>\n      <td>4.6</td>\n      <td>19.4</td>\n      <td>9.8</td>\n      <td>1.0</td>\n      <td>1.7</td>\n      <td>1.1</td>\n      <td>9.5</td>\n      <td>...</td>\n      <td>-2.8</td>\n      <td>4.4</td>\n      <td>13.4</td>\n      <td>-0.6</td>\n      <td>12.2</td>\n      <td>1.2</td>\n      <td>9.3</td>\n      <td>9.4</td>\n      <td>3.7</td>\n      <td>7.7</td>\n    </tr>\n    <tr>\n      <th>2006-01-01 00:03:00</th>\n      <td>11.5</td>\n      <td>-7.0</td>\n      <td>-0.1</td>\n      <td>4.7</td>\n      <td>19.4</td>\n      <td>9.7</td>\n      <td>1.0</td>\n      <td>1.7</td>\n      <td>1.1</td>\n      <td>9.4</td>\n      <td>...</td>\n      <td>-2.8</td>\n      <td>4.4</td>\n      <td>13.4</td>\n      <td>-0.6</td>\n      <td>12.2</td>\n      <td>1.2</td>\n      <td>9.3</td>\n      <td>9.4</td>\n      <td>3.8</td>\n      <td>7.8</td>\n    </tr>\n    <tr>\n      <th>2006-01-01 00:04:00</th>\n      <td>11.5</td>\n      <td>-6.9</td>\n      <td>-0.2</td>\n      <td>4.7</td>\n      <td>19.4</td>\n      <td>9.7</td>\n      <td>1.0</td>\n      <td>1.7</td>\n      <td>1.1</td>\n      <td>9.4</td>\n      <td>...</td>\n      <td>-2.8</td>\n      <td>4.3</td>\n      <td>13.4</td>\n      <td>-0.6</td>\n      <td>12.3</td>\n      <td>1.1</td>\n      <td>9.3</td>\n      <td>9.4</td>\n      <td>3.8</td>\n      <td>7.9</td>\n    </tr>\n  </tbody>\n</table>\n<p>5 rows × 34 columns</p>\n</div>"
     },
     "metadata": {}
    }
   ],
   "execution_count": 11
  },
  {
   "cell_type": "code",
   "source": "df_minutely.to_csv(\"us_eastern_regions_minutely_temperature_2006_to_2025.csv\")",
   "metadata": {
    "trusted": true,
    "execution": {
     "iopub.status.busy": "2025-05-19T04:26:31.760732Z",
     "iopub.execute_input": "2025-05-19T04:26:31.761096Z",
     "iopub.status.idle": "2025-05-19T04:31:27.063641Z",
     "shell.execute_reply.started": "2025-05-19T04:26:31.761073Z",
     "shell.execute_reply": "2025-05-19T04:31:27.062304Z"
    }
   },
   "outputs": [],
   "execution_count": 12
  }
 ]
}
